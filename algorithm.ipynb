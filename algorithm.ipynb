{
 "cells": [
  {
   "cell_type": "code",
   "execution_count": 5,
   "metadata": {
    "scrolled": true
   },
   "outputs": [
    {
     "data": {
      "text/plain": [
       "3"
      ]
     },
     "execution_count": 5,
     "metadata": {},
     "output_type": "execute_result"
    }
   ],
   "source": [
    "def prime_num(num):\n",
    "    answer = 1\n",
    "    for i in range(2, num + 1):\n",
    "        if num % i == 0: \n",
    "            answer += 1\n",
    "    return answer\n",
    "\n",
    "def solution(n):\n",
    "    if n%2 == 1:\n",
    "        return prime_num(n)\n",
    "    \n",
    "    answer = 1\n",
    "    i = 2\n",
    "    j = 1\n",
    "    while(j < n):\n",
    "        if i % 2 == 0:\n",
    "            if (2*n / i) % 2 == 1:\n",
    "                answer += 1\n",
    "        else:\n",
    "            if n % i == 0:\n",
    "                answer += 1\n",
    "        i += 1\n",
    "        j += i\n",
    "    return answer\n",
    "\n",
    "solution(25)"
   ]
  },
  {
   "cell_type": "markdown",
   "metadata": {},
   "source": [
    "### 조합 예제"
   ]
  },
  {
   "cell_type": "code",
   "execution_count": 6,
   "metadata": {
    "scrolled": true
   },
   "outputs": [
    {
     "ename": "NameError",
     "evalue": "name 'itertools' is not defined",
     "output_type": "error",
     "traceback": [
      "\u001b[0;31m---------------------------------------------------------------------------\u001b[0m",
      "\u001b[0;31mNameError\u001b[0m                                 Traceback (most recent call last)",
      "\u001b[0;32m<ipython-input-6-b820ce45fa35>\u001b[0m in \u001b[0;36m<module>\u001b[0;34m\u001b[0m\n\u001b[1;32m      3\u001b[0m \u001b[0;32mdef\u001b[0m \u001b[0msolution\u001b[0m\u001b[0;34m(\u001b[0m\u001b[0mn\u001b[0m\u001b[0;34m)\u001b[0m\u001b[0;34m:\u001b[0m\u001b[0;34m\u001b[0m\u001b[0;34m\u001b[0m\u001b[0m\n\u001b[1;32m      4\u001b[0m     \u001b[0mp\u001b[0m \u001b[0;34m=\u001b[0m \u001b[0;34m[\u001b[0m\u001b[0;34m'('\u001b[0m \u001b[0;32mfor\u001b[0m \u001b[0mi\u001b[0m \u001b[0;32min\u001b[0m \u001b[0mrange\u001b[0m\u001b[0;34m(\u001b[0m\u001b[0mn\u001b[0m\u001b[0;34m)\u001b[0m\u001b[0;34m]\u001b[0m \u001b[0;34m+\u001b[0m \u001b[0;34m[\u001b[0m\u001b[0;34m')'\u001b[0m \u001b[0;32mfor\u001b[0m \u001b[0mj\u001b[0m \u001b[0;32min\u001b[0m \u001b[0mrange\u001b[0m\u001b[0;34m(\u001b[0m\u001b[0mn\u001b[0m\u001b[0;34m)\u001b[0m\u001b[0;34m]\u001b[0m\u001b[0;34m\u001b[0m\u001b[0;34m\u001b[0m\u001b[0m\n\u001b[0;32m----> 5\u001b[0;31m \u001b[0mprint\u001b[0m\u001b[0;34m(\u001b[0m\u001b[0;34m'순열 : '\u001b[0m\u001b[0;34m,\u001b[0m \u001b[0mlist\u001b[0m\u001b[0;34m(\u001b[0m\u001b[0mmap\u001b[0m\u001b[0;34m(\u001b[0m\u001b[0;34m''\u001b[0m\u001b[0;34m.\u001b[0m\u001b[0mjoin\u001b[0m\u001b[0;34m,\u001b[0m \u001b[0mitertools\u001b[0m\u001b[0;34m.\u001b[0m\u001b[0mpermutations\u001b[0m\u001b[0;34m(\u001b[0m\u001b[0mp\u001b[0m\u001b[0;34m,\u001b[0m \u001b[0;36m2\u001b[0m\u001b[0;34m*\u001b[0m\u001b[0mn\u001b[0m\u001b[0;34m)\u001b[0m\u001b[0;34m)\u001b[0m\u001b[0;34m)\u001b[0m\u001b[0;34m)\u001b[0m\u001b[0;34m\u001b[0m\u001b[0;34m\u001b[0m\u001b[0m\n\u001b[0m",
      "\u001b[0;31mNameError\u001b[0m: name 'itertools' is not defined"
     ]
    }
   ],
   "source": [
    "from itertools import permutations\n",
    "\n",
    "def solution(n):\n",
    "    p = ['(' for i in range(n)] + [')' for j in range(n)]\n",
    "print('순열 : ', list(map(''.join, itertools.permutations(p, 2*n))))"
   ]
  },
  {
   "cell_type": "markdown",
   "metadata": {},
   "source": [
    "### 프로그래머스 여행경로\n",
    "`다시 풀어보기`"
   ]
  },
  {
   "cell_type": "code",
   "execution_count": null,
   "metadata": {},
   "outputs": [],
   "source": [
    "def solution(tickets):\n",
    "    tickets.sort()\n",
    "    answer = ['ICN']\n",
    "    g = {j[0]:[] for j in tickets}\n",
    "    for i in tickets:\n",
    "        g[i[0]].append(i[1])\n",
    "\n",
    "    stack = [g['ICN'][0]]\n",
    "    while stack:\n",
    "        node = stack.pop()\n",
    "        answer.append(node)\n",
    "        print(g,\", node=\", node,\", g[node]=\", g[node])\n",
    "        \n",
    "        if g[node] == []:\n",
    "            break\n",
    "        elif g[node][0] not in g.keys():\n",
    "            answer.append(g[node][0])\n",
    "            break\n",
    "        stack.append(g[node][0])\n",
    "        del g[node][0]\n",
    "    return answer\n",
    "\n",
    "#solution([[\"ICN\", \"SFO\"], [\"SFO\", \"ICN\"], [\"ICN\", \"SFO\"], [\"SFO\", \"QRE\"]])\n",
    "#solution([[\"ICN\", \"JFK\"], [\"HND\", \"IAD\"], [\"JFK\", \"HND\"]])\n",
    "#solution([[\"ICN\", \"SFO\"], [\"ICN\", \"ATL\"], [\"SFO\", \"ATL\"], [\"ATL\", \"ICN\"], [\"ATL\",\"SFO\"]])\n",
    "solution([['ICN','BOO' ], [ 'ICN', 'COO' ], [ 'COO', 'DOO' ], ['DOO', 'COO'], [ 'BOO', 'DOO'] ,['DOO', 'BOO'], ['BOO', 'ICN' ], ['COO', 'BOO']])"
   ]
  },
  {
   "cell_type": "code",
   "execution_count": 7,
   "metadata": {
    "scrolled": true
   },
   "outputs": [
    {
     "data": {
      "text/plain": [
       "['ICN', 'SFO', 'ICN', 'SFO', 'QRE']"
      ]
     },
     "execution_count": 7,
     "metadata": {},
     "output_type": "execute_result"
    }
   ],
   "source": [
    "def dfs(g, start_node):\n",
    "    visit = list()\n",
    "    stack = list()\n",
    "    stack.append(start_node)\n",
    "    \n",
    "    while stack:\n",
    "        node = stack.pop()\n",
    "        visit.append(node)\n",
    "\n",
    "        if g[node][0] not in g.keys() or g[g[node][0]] == []:\n",
    "            if len(g[node]) > 1:\n",
    "                stack.append(g[node][1])\n",
    "                del g[node][1]\n",
    "                continue\n",
    "            else:\n",
    "                visit.append(g[node][0])\n",
    "                break\n",
    "        if g[node] == []:\n",
    "            break\n",
    "        stack.append(g[node][0])\n",
    "        del g[node][0]\n",
    "    return visit\n",
    "\n",
    "def solution(tickets):\n",
    "    tickets.sort()\n",
    "    answer = ['ICN']\n",
    "    g = {j[0]:[] for j in tickets}\n",
    "    for i in tickets:\n",
    "        g[i[0]].append(i[1])\n",
    "    \n",
    "    return dfs(g,'ICN')\n",
    "    \n",
    "#solution([[\"ICN\", \"ABC\"], [\"ICN\", \"QWE\"], [\"QWE\", \"ABC\"]])\n",
    "#solution([[\"ICN\", \"SFO\"], [\"ICN\", \"ATL\"], [\"SFO\", \"ATL\"], [\"ATL\", \"ICN\"], [\"ATL\",\"SFO\"]])\n",
    "#solution([['ICN','BOO' ], [ 'ICN', 'COO' ], [ 'COO', 'DOO' ], ['DOO', 'COO'], [ 'BOO', 'DOO'] ,['DOO', 'BOO'], ['BOO', 'ICN' ], ['COO', 'BOO']])\n",
    "solution([[\"ICN\", \"SFO\"], [\"SFO\", \"ICN\"], [\"ICN\", \"SFO\"],[\"SFO\",\"QRE\"]])"
   ]
  },
  {
   "cell_type": "markdown",
   "metadata": {},
   "source": [
    "### ??"
   ]
  },
  {
   "cell_type": "code",
   "execution_count": null,
   "metadata": {},
   "outputs": [],
   "source": [
    "def dfs_paths(graph, start, goal):\n",
    "    stack = [(start, [start])]\n",
    "    result = []\n",
    "\n",
    "    while stack:\n",
    "        n, path = stack.pop()\n",
    "        if n == goal:\n",
    "            result.append(path)\n",
    "        else:\n",
    "            for m in set(graph[n]) - set(path):\n",
    "                stack.append((m, path + [m]))\n",
    "    return result\n",
    "\n",
    "def solution(n, costs):\n",
    "    l = [[0]*4 for i in range(n)]\n",
    "    g = {k:[] for k in range(n)}\n",
    "\n",
    "    for j in costs:\n",
    "        l[j[0]][j[1]] = j[2] #반쪽짜리 인접행렬\n",
    "        g[j[0]].append(j[1])\n",
    "        g[j[1]].append(j[0])\n",
    "\n",
    "    print(dfs_paths(g, 0, 3))\n",
    "    \n",
    "    answer = 0\n",
    "    return answer\n",
    "\n",
    "solution(4, [[0,1,1],[0,2,2],[1,2,5],[1,3,1],[2,3,8]])"
   ]
  },
  {
   "cell_type": "markdown",
   "metadata": {},
   "source": [
    "### 크루스칼 알고리즘\n",
    "`가중 그래프에서 최소 가중치로 모든 노드 순회`"
   ]
  },
  {
   "cell_type": "code",
   "execution_count": 8,
   "metadata": {
    "scrolled": true
   },
   "outputs": [
    {
     "data": {
      "text/plain": [
       "11"
      ]
     },
     "execution_count": 8,
     "metadata": {},
     "output_type": "execute_result"
    }
   ],
   "source": [
    "def solution(n, costs):\n",
    "    i = 0\n",
    "    costs.sort(key = lambda x:x[2])\n",
    "    ans = costs[0][2]\n",
    "    visited = set([costs[0][0], costs[0][1]])\n",
    "    costs.pop(0)\n",
    "    \n",
    "    while(len(visited) < n):\n",
    "        #print(visited, costs, ans)\n",
    "        if costs[i][0] in visited or costs[i][1] in visited:\n",
    "            if costs[i][0] in visited and costs[i][1] in visited:\n",
    "                i += 1\n",
    "                continue\n",
    "            ans += costs[i][2]\n",
    "            visited = visited.union(costs[i][:2])\n",
    "            del costs[i]\n",
    "            i = 0\n",
    "            continue\n",
    "        i += 1\n",
    "\n",
    "    return ans\n",
    "\n",
    "solution(6, [[0, 1, 5], [0, 3, 2], [0, 4, 3], [1, 4, 1], [3, 4, 10], [1, 2, 2], [2, 5, 3], [4, 5, 4]])"
   ]
  },
  {
   "cell_type": "markdown",
   "metadata": {},
   "source": [
    "### 프로그래머스 저울\n",
    "`실패`"
   ]
  },
  {
   "cell_type": "code",
   "execution_count": null,
   "metadata": {},
   "outputs": [],
   "source": [
    "def solution(weight):\n",
    "    answer = 0\n",
    "    weight.sort(reverse = True)\n",
    "    \n",
    "    i = 1\n",
    "    while(True):\n",
    "        temp = i\n",
    "        for j in weight:\n",
    "            if j <= temp:\n",
    "                temp -= j\n",
    "                if temp < 0:\n",
    "                    return i\n",
    "                elif temp == 0:\n",
    "                    i += 1\n",
    "                    continue\n",
    "        if temp != 0:\n",
    "            return i\n",
    "            \n",
    "    return answer\n",
    "\n",
    "#solution([3, 1, 6, 2, 7, 30, 1])\n",
    "#solution([1,2,  4, 5, 13])\n",
    "solution([1, 2, 3, 4, 5, 100])"
   ]
  },
  {
   "cell_type": "markdown",
   "metadata": {},
   "source": [
    "`성공`"
   ]
  },
  {
   "cell_type": "code",
   "execution_count": null,
   "metadata": {},
   "outputs": [],
   "source": [
    "def solution(weight):\n",
    "    weight = sorted(weight)\n",
    "    answer = 1\n",
    "    for w in weight:\n",
    "        if answer >= w:\n",
    "            answer += w\n",
    "    return answer\n",
    "\n",
    "solution([1, 2, 3, 4, 5])"
   ]
  },
  {
   "cell_type": "markdown",
   "metadata": {},
   "source": [
    "### ??"
   ]
  },
  {
   "cell_type": "code",
   "execution_count": null,
   "metadata": {},
   "outputs": [],
   "source": [
    "def solution(n):\n",
    "    if n == 1:\n",
    "        return 1\n",
    "    elif n == 2:\n",
    "        return 2\n",
    "    elif n == 3:\n",
    "        return 3\n",
    "    else:\n",
    "        return solution(n-1)+1 if n%3 != 0 else solution(n-1)+2\n",
    "    \n",
    "num = int(input())\n",
    "print(solution(num%1000000))"
   ]
  },
  {
   "cell_type": "code",
   "execution_count": null,
   "metadata": {},
   "outputs": [],
   "source": [
    "def dfs(ar, n, m):\n",
    "    if ar[n+1][m+1] == 1:\n",
    "        \n",
    "\n",
    "def solution(arr):\n",
    "    for i in range(len(arr)):\n",
    "        for j in range(i):\n",
    "            if arr[i][j] == 1:\n",
    "                dfs(arr, i, j)"
   ]
  },
  {
   "cell_type": "code",
   "execution_count": null,
   "metadata": {},
   "outputs": [],
   "source": [
    "print(sum([i**2 for i in list(map(int, input().split()))])%10)"
   ]
  },
  {
   "cell_type": "code",
   "execution_count": null,
   "metadata": {},
   "outputs": [],
   "source": [
    "n = int(input())\n",
    "l = []\n",
    "for i in range(n):\n",
    "    l.append(map(int, input().split()))\n",
    "for j in range(n):\n",
    "    print(sum(l[j]))"
   ]
  },
  {
   "cell_type": "code",
   "execution_count": null,
   "metadata": {},
   "outputs": [],
   "source": [
    "n = int(input())\n",
    "for i in range(1, n+1):\n",
    "    print(\" \" * (n - i), \"*\" * (i))"
   ]
  },
  {
   "cell_type": "code",
   "execution_count": null,
   "metadata": {},
   "outputs": [],
   "source": [
    "n, tar = map(int, input().split())\n",
    "\n",
    "for i in range(n):\n",
    "    if i < tar:\n",
    "        print(\"i \")"
   ]
  },
  {
   "cell_type": "code",
   "execution_count": null,
   "metadata": {},
   "outputs": [],
   "source": [
    "l=[]\n",
    "n=int(input())\n",
    "for i in range(n):\n",
    "    l.append(list(map(int, input().split())))\n",
    "l.sort()\n",
    "for j in range(n):\n",
    "    print(l[j][0],l[j][1])"
   ]
  },
  {
   "cell_type": "code",
   "execution_count": 5,
   "metadata": {},
   "outputs": [
    {
     "name": "stdout",
     "output_type": "stream",
     "text": [
      "4\n",
      "-1\n"
     ]
    }
   ],
   "source": [
    "n = int(input())\n",
    "\n",
    "start = n//5\n",
    "for i in range(start, -1, -1):\n",
    "    if (n - i*5)%3 == 0:\n",
    "        print(i + (n - i*5)//3)\n",
    "        break\n",
    "\n",
    "    if i == 0 and n%3 != 0:\n",
    "        print(-1)"
   ]
  },
  {
   "cell_type": "code",
   "execution_count": 11,
   "metadata": {},
   "outputs": [
    {
     "ename": "KeyboardInterrupt",
     "evalue": "Interrupted by user",
     "output_type": "error",
     "traceback": [
      "\u001b[0;31m---------------------------------------------------------------------------\u001b[0m",
      "\u001b[0;31mKeyboardInterrupt\u001b[0m                         Traceback (most recent call last)",
      "\u001b[0;32m<ipython-input-11-ee42c0167b7e>\u001b[0m in \u001b[0;36m<module>\u001b[0;34m\u001b[0m\n\u001b[1;32m      1\u001b[0m \u001b[0ml\u001b[0m\u001b[0;34m=\u001b[0m\u001b[0;34m[\u001b[0m\u001b[0;34m]\u001b[0m\u001b[0;34m\u001b[0m\u001b[0;34m\u001b[0m\u001b[0m\n\u001b[1;32m      2\u001b[0m \u001b[0mstack\u001b[0m \u001b[0;34m=\u001b[0m \u001b[0;34m[\u001b[0m\u001b[0;34m]\u001b[0m\u001b[0;34m\u001b[0m\u001b[0;34m\u001b[0m\u001b[0m\n\u001b[0;32m----> 3\u001b[0;31m \u001b[0mn\u001b[0m\u001b[0;34m=\u001b[0m\u001b[0mint\u001b[0m\u001b[0;34m(\u001b[0m\u001b[0minput\u001b[0m\u001b[0;34m(\u001b[0m\u001b[0;34m)\u001b[0m\u001b[0;34m)\u001b[0m\u001b[0;34m\u001b[0m\u001b[0;34m\u001b[0m\u001b[0m\n\u001b[0m\u001b[1;32m      4\u001b[0m \u001b[0;32mfor\u001b[0m \u001b[0mi\u001b[0m \u001b[0;32min\u001b[0m \u001b[0mrange\u001b[0m\u001b[0;34m(\u001b[0m\u001b[0mn\u001b[0m\u001b[0;34m)\u001b[0m\u001b[0;34m:\u001b[0m\u001b[0;34m\u001b[0m\u001b[0;34m\u001b[0m\u001b[0m\n\u001b[1;32m      5\u001b[0m     \u001b[0mtemp\u001b[0m \u001b[0;34m=\u001b[0m \u001b[0minput\u001b[0m\u001b[0;34m(\u001b[0m\u001b[0;34m)\u001b[0m\u001b[0;34m\u001b[0m\u001b[0;34m\u001b[0m\u001b[0m\n",
      "\u001b[0;32m/Library/Frameworks/Python.framework/Versions/3.8/lib/python3.8/site-packages/ipykernel/kernelbase.py\u001b[0m in \u001b[0;36mraw_input\u001b[0;34m(self, prompt)\u001b[0m\n\u001b[1;32m    858\u001b[0m                 \u001b[0;34m\"raw_input was called, but this frontend does not support input requests.\"\u001b[0m\u001b[0;34m\u001b[0m\u001b[0;34m\u001b[0m\u001b[0m\n\u001b[1;32m    859\u001b[0m             )\n\u001b[0;32m--> 860\u001b[0;31m         return self._input_request(str(prompt),\n\u001b[0m\u001b[1;32m    861\u001b[0m             \u001b[0mself\u001b[0m\u001b[0;34m.\u001b[0m\u001b[0m_parent_ident\u001b[0m\u001b[0;34m,\u001b[0m\u001b[0;34m\u001b[0m\u001b[0;34m\u001b[0m\u001b[0m\n\u001b[1;32m    862\u001b[0m             \u001b[0mself\u001b[0m\u001b[0;34m.\u001b[0m\u001b[0m_parent_header\u001b[0m\u001b[0;34m,\u001b[0m\u001b[0;34m\u001b[0m\u001b[0;34m\u001b[0m\u001b[0m\n",
      "\u001b[0;32m/Library/Frameworks/Python.framework/Versions/3.8/lib/python3.8/site-packages/ipykernel/kernelbase.py\u001b[0m in \u001b[0;36m_input_request\u001b[0;34m(self, prompt, ident, parent, password)\u001b[0m\n\u001b[1;32m    902\u001b[0m             \u001b[0;32mexcept\u001b[0m \u001b[0mKeyboardInterrupt\u001b[0m\u001b[0;34m:\u001b[0m\u001b[0;34m\u001b[0m\u001b[0;34m\u001b[0m\u001b[0m\n\u001b[1;32m    903\u001b[0m                 \u001b[0;31m# re-raise KeyboardInterrupt, to truncate traceback\u001b[0m\u001b[0;34m\u001b[0m\u001b[0;34m\u001b[0m\u001b[0;34m\u001b[0m\u001b[0m\n\u001b[0;32m--> 904\u001b[0;31m                 \u001b[0;32mraise\u001b[0m \u001b[0mKeyboardInterrupt\u001b[0m\u001b[0;34m(\u001b[0m\u001b[0;34m\"Interrupted by user\"\u001b[0m\u001b[0;34m)\u001b[0m \u001b[0;32mfrom\u001b[0m \u001b[0;32mNone\u001b[0m\u001b[0;34m\u001b[0m\u001b[0;34m\u001b[0m\u001b[0m\n\u001b[0m\u001b[1;32m    905\u001b[0m             \u001b[0;32mexcept\u001b[0m \u001b[0mException\u001b[0m \u001b[0;32mas\u001b[0m \u001b[0me\u001b[0m\u001b[0;34m:\u001b[0m\u001b[0;34m\u001b[0m\u001b[0;34m\u001b[0m\u001b[0m\n\u001b[1;32m    906\u001b[0m                 \u001b[0mself\u001b[0m\u001b[0;34m.\u001b[0m\u001b[0mlog\u001b[0m\u001b[0;34m.\u001b[0m\u001b[0mwarning\u001b[0m\u001b[0;34m(\u001b[0m\u001b[0;34m\"Invalid Message:\"\u001b[0m\u001b[0;34m,\u001b[0m \u001b[0mexc_info\u001b[0m\u001b[0;34m=\u001b[0m\u001b[0;32mTrue\u001b[0m\u001b[0;34m)\u001b[0m\u001b[0;34m\u001b[0m\u001b[0;34m\u001b[0m\u001b[0m\n",
      "\u001b[0;31mKeyboardInterrupt\u001b[0m: Interrupted by user"
     ]
    }
   ],
   "source": [
    "l=[]\n",
    "stack = []\n",
    "n=int(input())\n",
    "\n",
    "for i in range(n):\n",
    "    temp = input()\n",
    "    if temp[:4] == 'push':\n",
    "        stack.append(int(temp[-1]))\n",
    "    elif temp == 'pop':\n",
    "        if len(stack) != 0:\n",
    "            print(stack.pop())\n",
    "        else:\n",
    "            print(-1)\n",
    "    elif temp == 'size':\n",
    "        print(len(stack))\n",
    "    elif temp == 'empty':\n",
    "        if len(stack) == 0:\n",
    "            print(1)\n",
    "        else:\n",
    "            print(0)\n",
    "    else:\n",
    "        if len(stack) != 0:\n",
    "            print(stack[-1])\n",
    "        else:\n",
    "            print(-1)\n",
    "\n",
    "            "
   ]
  },
  {
   "cell_type": "code",
   "execution_count": null,
   "metadata": {},
   "outputs": [],
   "source": [
    "n = int(input())\n",
    "l = list(map(int, input().split()))\n",
    "\n",
    "def isPrime(n): \n",
    "    if n==1:\n",
    "        return False\n",
    "    for i in range(2, int(n ** 0.5) + 1):\n",
    "        result = n % i \n",
    "        if result == 0: \n",
    "            return False \n",
    "    return True\n",
    "\n",
    "answer = 0\n",
    "for i in range(n):\n",
    "    if isPrime(l[i]):\n",
    "        answer += 1\n",
    "print(answer)\n",
    "isPrime(1)"
   ]
  },
  {
   "cell_type": "code",
   "execution_count": 8,
   "metadata": {},
   "outputs": [
    {
     "name": "stdout",
     "output_type": "stream",
     "text": [
      "3\n",
      "(\n",
      "NO\n",
      "()\n",
      "YES\n",
      "()()\n",
      "YES\n"
     ]
    }
   ],
   "source": [
    "l = []\n",
    "\n",
    "def isVPS(s):\n",
    "    temp = 0\n",
    "    for i in s:\n",
    "        if i == '(':\n",
    "            temp += 1\n",
    "        else:\n",
    "            temp -= 1\n",
    "        if temp < 0:\n",
    "            print(\"NO\")\n",
    "            return\n",
    "    if temp == 0:\n",
    "        print(\"YES\")\n",
    "    else:\n",
    "        print(\"NO\")\n",
    "\n",
    "\n",
    "\n",
    "for i in range(int(input())):\n",
    "    l.append(input())\n",
    "    isVPS(l[-1])\n"
   ]
  },
  {
   "cell_type": "code",
   "execution_count": 10,
   "metadata": {},
   "outputs": [
    {
     "name": "stdout",
     "output_type": "stream",
     "text": [
      "5 5 3\n",
      "5 4\n",
      "5 2\n",
      "1 2\n",
      "3 4\n",
      "3 1\n",
      "3 4 5 2 1\n",
      "3 1 4 2 5\n"
     ]
    }
   ],
   "source": [
    "def dfs(g, start):\n",
    "    visited = []\n",
    "    stack = []\n",
    "    stack.append(start)\n",
    "    while stack:\n",
    "        node = stack.pop()\n",
    "        if node not in visited:\n",
    "            visited.append(node)\n",
    "            stack.extend(g[node])\n",
    "    return visited\n",
    "\n",
    "def bfs(g, start):\n",
    "    visited = []\n",
    "    queue = [start]\n",
    "    while queue:\n",
    "        node = queue.pop(0)\n",
    "        if node not in visited:\n",
    "            visited.append(node)\n",
    "            queue.extend(g[node])\n",
    "    return visited\n",
    "\n",
    "node_num, edge, start_node = map(int, input().split())\n",
    "graph = {i:[] for i in range(1, node_num+1)}\n",
    "\n",
    "for i in range(edge):\n",
    "    a = list(map(int, input().split()))\n",
    "    graph[a[0]].append(a[1])\n",
    "    graph[a[1]].append(a[0])\n",
    "for j in range(1, node_num+1):\n",
    "    graph[j].sort()\n",
    "\n",
    "print(\" \".join(str(i) for i in dfs(graph, start_node)))\n",
    "print(\" \".join(str(i) for i in bfs(graph, start_node)))"
   ]
  },
  {
   "cell_type": "code",
   "execution_count": null,
   "metadata": {},
   "outputs": [],
   "source": [
    "from math import gcd\n",
    "def solution(arr):\n",
    "    for i in range(len(arr)-1):\n",
    "        temp = (arr[i]*arr[i+1]/gcd(arr[i], arr[i+1]))\n",
    "        arr[i+1] = temp\n",
    "    return (arr[-1])"
   ]
  },
  {
   "cell_type": "code",
   "execution_count": 31,
   "metadata": {},
   "outputs": [
    {
     "data": {
      "text/plain": [
       "5"
      ]
     },
     "execution_count": 31,
     "metadata": {},
     "output_type": "execute_result"
    }
   ],
   "source": [
    "def solution(s):\n",
    "    n = len(s)\n",
    "    start = n//2\n",
    "    answer = [n]\n",
    "    \n",
    "    for i in range(start, 0, -1):\n",
    "        divided = list(map(''.join, zip(*[iter(s)]*i)))\n",
    "        if len(divided) - len(set(divided)) == 0:\n",
    "            continue\n",
    "        temp = divided[0]\n",
    "        cnt = 1\n",
    "        result = n\n",
    "        for j in range(1, len(divided)):\n",
    "            if temp == divided[j]:\n",
    "                cnt += 1\n",
    "            else:\n",
    "                if cnt != 1:\n",
    "                    result = result - (cnt*i) + i + len(str(cnt))\n",
    "                temp = divided[j]\n",
    "                cnt = 1\n",
    "        if cnt != 1:\n",
    "            result = result - (cnt*i) + i + len(str(cnt))\n",
    "        answer.append(result)\n",
    "                \n",
    "    return sorted(answer)[0]\n",
    "\n",
    "#solution(\"aabbaccc\")\n",
    "#solution(\"abcabcdede\")\n",
    "solution(\"aaaaaaaaaaaaaaaaaaaaaaaaaaaaaaaaaaaaaaaaaaaaaaaaaaaaaaaaaaaaaaaaaaaaaaaaaaaaaaaaaaaaaaaaaaaaaaaaaaaaaaaaaaaaaaaaaaaaaaaaaaaaaaaaaaaaaaaaaaaaaaaaaaaaaaaaaaaaaaaaaaaaaaaaaaaaaaaaaaaaaaaaaaaaaaaaaaaaaaaaaaaaaaaaaaaaaaaaaaaaaaaaaaaaaaaaaaaaaaaaaaaaaaaaaaaaaaaaaaaaaaaaaaaaaaaaaaaaaaaaaaaaaaaaaaaaaaaaaaaaaaaaaaaaaaaaaaaaaaaaaaaaaaaaaaaaaaaaaaaaaaaaaaaaaaaaaaaaaaaaaaaaaaaaaaaaaaaaaaaaaaaaaaaaaaaaaaaaaaaaaaaaaaaaaaaaaaaaaaaaaaaaaaaaaaaaaaaaaaaaaaaaaaaaaaaaaaaaaaaaaaaaaaaaaaaaaaaaaaaaaaaaaaaaaaaaaaaaaaaaaaaaaaaaaaaaaaaaaaaaaaaaaaaaaaaaaaaaaaaaaaaaaaaaaaaaaaaaaaaaaaaaaaaaaaaaaaaaaaaaaaaaaaaaaaaaaaaaaaaaaaaaaaaaaaaaaaaaaaaaaaaaaaaaaaaaaaaaaaaaaaaaaaaaaaaaaaaaaaaaaaaaaaaaaaaaaaaaaaaaaaaaaaaaaaaaaaaaaaaaaaaaaaaaaaaaaaaaaaaaaaaaaaaaaaaaaaaaaaaaaaaaaaaaaaaaaaaaaaaaaaaaaaaaaaaaaaaaaaaaaaaaaaaaaaaaaaaaaaaaaaaaaaaaaaaaaaaaaaaaaaaaaaaaaaaaaaaaaaaaaaaaaaaaaaaaaaaaaaaaaaaaaaaaaaaaaaaaaaaaaaaaaaaaaaaaaaaaaaaaaaaaaaaaaaaaaaaaaaaaaaaaaaaaaaaaaaaaaaaaaaaaaaaaaaaaaaaaaaaaaaaaaaaaaaaaaaaaaaaaaaaaaaaaaaaaaaaaaaaa\")"
   ]
  },
  {
   "cell_type": "code",
   "execution_count": 1,
   "metadata": {},
   "outputs": [],
   "source": [
    "def findIndex(l, target):\n",
    "    for i in range(len(l)):\n",
    "        if l[i][0] == target:\n",
    "            return i\n",
    "    return None\n",
    "\n",
    "def solution(record):\n",
    "    user_list = [] #아이디, 닉네임, 고유번호\n",
    "    indices = []\n",
    "    for i in record:\n",
    "        ind = findIndex(user_list, i.split()[1])\n",
    "        if i[0] == 'E':\n",
    "            if ind == None:\n",
    "                user_list.append([i.split()[1], i.split()[2], len(user_list)])\n",
    "                ind = -1\n",
    "            user_list[ind][1] = i.split()[2]\n",
    "            indices.append([user_list[ind][2], 1])\n",
    "        elif i[0] == \"L\":\n",
    "            indices.append([user_list[ind][2], 2])\n",
    "        else:\n",
    "            user_list[ind][1] = i.split()[2]\n",
    "            \n",
    "    answer = []\n",
    "    for j in indices:\n",
    "        if j[1] == 1:\n",
    "            answer.append(user_list[j[0]][1] + '님이 들어왔습니다.')\n",
    "        else:\n",
    "            answer.append(user_list[j[0]][1] + '님이 나갔습니다.')\n",
    "    \n",
    "    return answer"
   ]
  },
  {
   "cell_type": "code",
   "execution_count": 14,
   "metadata": {},
   "outputs": [
    {
     "data": {
      "text/plain": [
       "['Prodo님이 들어왔습니다.',\n",
       " 'Ryan님이 들어왔습니다.',\n",
       " 'Prodo님이 나갔습니다.',\n",
       " 'Prodo님이 들어왔습니다.',\n",
       " 'Ryan님이 나갔습니다.']"
      ]
     },
     "execution_count": 14,
     "metadata": {},
     "output_type": "execute_result"
    }
   ],
   "source": [
    "def solution(record):\n",
    "    dic = {}\n",
    "    answer = []\n",
    "    for i in record:\n",
    "        temp = i.split()\n",
    "        if temp[0] == \"Leave\":\n",
    "            continue\n",
    "        dic[temp[1]] = temp[2]\n",
    "        \n",
    "    for j in record:\n",
    "        temp = j.split()\n",
    "        if temp[0] == 'Change':\n",
    "            continue\n",
    "        if temp[0] == 'Enter':\n",
    "            answer.append(dic[temp[1]]+\"님이 들어왔습니다.\")\n",
    "        else:\n",
    "            answer.append(dic[temp[1]]+\"님이 나갔습니다.\")\n",
    "    return answer\n",
    "\n",
    "solution([\"Enter uid1234 Muzi\", \"Enter uid4567 Prodo\",\"Leave uid1234\",\"Enter uid1234 Prodo\",\"Change uid4567 Ryan\", \"Leave uid4567\"])"
   ]
  },
  {
   "cell_type": "code",
   "execution_count": 34,
   "metadata": {},
   "outputs": [
    {
     "name": "stdout",
     "output_type": "stream",
     "text": [
      "8 8\n"
     ]
    },
    {
     "data": {
      "text/plain": [
       "65536"
      ]
     },
     "execution_count": 34,
     "metadata": {},
     "output_type": "execute_result"
    }
   ],
   "source": [
    "import re, collections\n",
    "\n",
    "def solution(str1, str2):\n",
    "    r = re.compile('[^a-zA-Z]')\n",
    "    \n",
    "    d1 = [i for i in list(map(''.join, zip(*[iter(str1.upper())]*2))) + list(map(''.join, zip(*[iter(str1[1:].upper())]*2))) if i == r.sub('', i)]\n",
    "    d2 = [i for i in list(map(''.join, zip(*[iter(str2.upper())]*2))) + list(map(''.join, zip(*[iter(str2[1:].upper())]*2))) if i == r.sub('', i)]\n",
    "    \n",
    "    c1 = collections.Counter(d1)\n",
    "    c2 = collections.Counter(d2)\n",
    "    \n",
    "    union = 0\n",
    "    intersec = 0\n",
    "    \n",
    "    #for j in set(d1).union(set(d2)):\n",
    "    #    if j in c1.keys():\n",
    "    #        if j in c2.keys():\n",
    "    #            union += max(c1[j], c2[j])\n",
    "    #        else:\n",
    "    #            union += c1[j]\n",
    "    #    else:\n",
    "    #        union += c2[j]\n",
    "    \n",
    "    for k in set(d1).intersection(set(d2)):\n",
    "        intersec += min(c1[k], c2[k])\n",
    "        \n",
    "    union = len(d1) + len(d2) - intersec\n",
    "    print(union, intersec)\n",
    "\n",
    "    answer = 0\n",
    "    return round((intersec/union) * 65536)  if union != 0 else 65536\n",
    "\n",
    "solution(\"handshake\", \"shake hands\")"
   ]
  },
  {
   "cell_type": "code",
   "execution_count": 50,
   "metadata": {},
   "outputs": [
    {
     "data": {
      "text/plain": [
       "43690.0"
      ]
     },
     "execution_count": 50,
     "metadata": {},
     "output_type": "execute_result"
    }
   ],
   "source": [
    "import re, collections\n",
    "\n",
    "def solution(str1, str2):\n",
    "\n",
    "    d1 = [i for i in [str1[i:i+2].upper() for i in range(len(str1) - 1)] if i == re.compile('[^a-zA-Z]').sub('', i)]\n",
    "    d2 = [i for i in [str2[i:i+2].upper() for i in range(len(str2) - 1)] if i == re.compile('[^a-zA-Z]').sub('', i)]\n",
    "\n",
    "    intersec = 0\n",
    "    for k in set(d1).intersection(set(d2)):\n",
    "        intersec += min(collections.Counter(d1)[k], collections.Counter(d2)[k])\n",
    "\n",
    "    return (intersec/(len(d1) + len(d2) - intersec) * 65536) // 1 if len(d1) + len(d2) - intersec != 0 else 65536\n",
    "\n",
    "solution(\t\"aa1+aa2\", \"AAAA12\")"
   ]
  },
  {
   "cell_type": "code",
   "execution_count": 4,
   "metadata": {},
   "outputs": [
    {
     "data": {
      "text/plain": [
       "[['C', 'A', 'A', 'C'],\n",
       " ['C', 'A', 'A', 'C'],\n",
       " ['B', 'A', 'A', 'B'],\n",
       " ['B', 'B', 'D', 'D'],\n",
       " ['F', 'F', 'E', 'E']]"
      ]
     },
     "execution_count": 4,
     "metadata": {},
     "output_type": "execute_result"
    }
   ],
   "source": [
    "list(map(list, zip(*[\"CCBDE\", \"AAADE\", \"AAABF\", \"CCBBF\"][::-1])))"
   ]
  },
  {
   "cell_type": "code",
   "execution_count": 47,
   "metadata": {},
   "outputs": [
    {
     "data": {
      "text/plain": [
       "4"
      ]
     },
     "execution_count": 47,
     "metadata": {},
     "output_type": "execute_result"
    }
   ],
   "source": [
    "def is2x2(m, n, board):\n",
    "    answer = []\n",
    "    for i in range(m-1):\n",
    "        for j in range(n-1):\n",
    "            temp = board[i][j]\n",
    "            if temp == 0:\n",
    "                continue\n",
    "            if temp == board[i+1][j] and temp == board[i][j+1] and temp == board[i+1][j+1]:\n",
    "                answer += [[i, j], [i+1, j], [i, j+1], [i+1, j+1]]\n",
    "                \n",
    "    return list(set(map(tuple, answer)))\n",
    "\n",
    "def removeBlock(m, board, l):\n",
    "    for i in l:\n",
    "        board[i[0]].pop(i[1])\n",
    "    for j in range(m):\n",
    "        if len(board[j]) < m:\n",
    "            board[j] += [0] * (m - len(board[j]))\n",
    "    return board\n",
    "    \n",
    "def solution(m, n, board):\n",
    "    board = list(map(list, zip(*board[::-1])))\n",
    "    m, n = n, m\n",
    "    answer = 0\n",
    "    while(True):\n",
    "        temp = is2x2(m, n, board)\n",
    "        if temp == []:\n",
    "            break\n",
    "        answer += len(temp)\n",
    "        board = removeBlock(m, board, sorted(temp, reverse = True))\n",
    "        \n",
    "    return answer\n",
    "\n",
    "solution(3,2, [\"AA\", \"AA\", \"AB\"])"
   ]
  },
  {
   "cell_type": "code",
   "execution_count": 12,
   "metadata": {},
   "outputs": [
    {
     "name": "stdout",
     "output_type": "stream",
     "text": [
      "[['C', 'A', 'A', 'C'], ['A', 'A', 'C'], ['B', 'A', 'A', 'B'], ['B', 'B', 'D', 'D'], ['F', 'F', 'E', 'E']]\n"
     ]
    }
   ],
   "source": [
    "def removeBlock(board, l):\n",
    "    for i in l:\n",
    "        board[i[0]].pop(i[1])\n",
    "    return board\n",
    "\n",
    "#removeBlock([\"CCBDE\", \"AAADE\", \"AAABF\", \"CCBBF\"], [[1,1], [2,2]])\n",
    "\n",
    "temp = [['C', 'A', 'A', 'C'],['C', 'A', 'A', 'C'],['B', 'A', 'A', 'B'],['B', 'B', 'D', 'D'],['F', 'F', 'E', 'E']]\n",
    "temp[1].pop(0)\n",
    "print(temp)"
   ]
  },
  {
   "cell_type": "code",
   "execution_count": null,
   "metadata": {},
   "outputs": [],
   "source": [
    "length, n = map(int, input().split())\n",
    "dolls = list(map(int, input().split()))\n",
    "\n",
    "def sd(nums):\n",
    "    m = sum(nums)/len(nums)\n",
    "    return (sum([(i-m)**2 for i in nums])/len(nums))**0.5\n",
    "\n",
    "def solution(n, dolls):\n",
    "    answer = 1000000\n",
    "    for i in range(n, len(dolls)+1):\n",
    "        answer = min(answer, sd(dolls[i-n:i]))\n",
    "    return answer\n",
    "\n",
    "print(solution(n, dolls))"
   ]
  },
  {
   "cell_type": "code",
   "execution_count": 7,
   "metadata": {},
   "outputs": [
    {
     "data": {
      "text/plain": [
       "3"
      ]
     },
     "execution_count": 7,
     "metadata": {},
     "output_type": "execute_result"
    }
   ],
   "source": [
    "import collections\n",
    "\n",
    "def solution(words):\n",
    "    answer = 0\n",
    "    for i in words:\n",
    "        dic = sorted(collections.Counter(list(i)).items(), reverse=True)\n",
    "        for j in dic:\n",
    "            if j[1] == 1:\n",
    "                break\n",
    "            if j[0]*j[1] not in i:\n",
    "                break\n",
    "        answer += 1\n",
    "    return answer\n",
    "solution([\"happyp\", \"new\", \"year\"])"
   ]
  },
  {
   "cell_type": "code",
   "execution_count": 8,
   "metadata": {},
   "outputs": [
    {
     "data": {
      "text/plain": [
       "[5, 6, 5, 6, 11, 11]"
      ]
     },
     "execution_count": 8,
     "metadata": {},
     "output_type": "execute_result"
    }
   ],
   "source": [
    "def splitted(s):\n",
    "    return [s - s//2, s//2]\n",
    "def solution(n, s):\n",
    "    if s == 1:\n",
    "        return [-1]\n",
    "    answer = [s]\n",
    "    while(len(answer) < n):\n",
    "        answer += splitted(answer.pop(0))\n",
    "    return list(reversed(answer))\n",
    "\n",
    "solution(6, 44)"
   ]
  },
  {
   "cell_type": "code",
   "execution_count": 4,
   "metadata": {},
   "outputs": [
    {
     "name": "stdout",
     "output_type": "stream",
     "text": [
      "aeqw-qweqw-ads\n",
      "aqa\n"
     ]
    }
   ],
   "source": [
    "s = [i[0] for i in input().split('-')]\n",
    "print(''.join(s))"
   ]
  },
  {
   "cell_type": "code",
   "execution_count": 60,
   "metadata": {},
   "outputs": [
    {
     "name": "stdout",
     "output_type": "stream",
     "text": [
      "[1, 2, 4, 6, 9, 12, 16, 20, 25, 30, 36, 42, 49, 56, 64, 72, 81, 90, 100, 110, 121, 132, 144, 156, 169, 182, 196, 210, 225, 240, 256, 272, 289, 306, 324, 342, 361, 380, 400, 420, 441, 462, 484, 506, 529, 552, 576, 600, 625, 650]\n"
     ]
    }
   ],
   "source": [
    "memo = []\n",
    "for i in range(0, 50, 2):\n",
    "    memo.append(2 * sum([j + 1 for j in range(i//2)]) + (i//2+1))\n",
    "    memo.append(memo[-1]+(i//2+1))\n",
    "    \n",
    "print(memo)"
   ]
  },
  {
   "cell_type": "code",
   "execution_count": 15,
   "metadata": {},
   "outputs": [
    {
     "name": "stdout",
     "output_type": "stream",
     "text": [
      "1\n",
      "1 2147483647\n",
      "92681\n"
     ]
    }
   ],
   "source": [
    "def printIndex(n):\n",
    "    for i in range(1000000):\n",
    "        if i**2 < n <= (i+1)**2:\n",
    "            if n <= i*(i+1):\n",
    "                print(i*2)\n",
    "                return\n",
    "            else:\n",
    "                print(i*2 + 1)\n",
    "                return\n",
    "\n",
    "temp=[]\n",
    "for i in range(int(input())):\n",
    "    temp.append(list(map(int, input().split())))\n",
    "\n",
    "for j in temp:\n",
    "    printIndex(j[1] - j[0])\n",
    "    "
   ]
  },
  {
   "cell_type": "code",
   "execution_count": 34,
   "metadata": {},
   "outputs": [
    {
     "name": "stdout",
     "output_type": "stream",
     "text": [
      "0 9\n",
      "2 10\n",
      "3 10\n",
      "4 10\n",
      "5 10\n",
      "6 10\n",
      "7 10\n"
     ]
    },
    {
     "data": {
      "text/plain": [
       "[8, 11]"
      ]
     },
     "execution_count": 34,
     "metadata": {},
     "output_type": "execute_result"
    }
   ],
   "source": [
    "def solution(gems):\n",
    "    size = len(set(gems))\n",
    "    start = 0\n",
    "    end = len(gems) - 1\n",
    "    candidate = []\n",
    "    \n",
    "    s = set()\n",
    "    for i in range(len(gems)):\n",
    "        \n",
    "    return [start + 1, end + 1]\n",
    "\n",
    "solution([1,2,2,2,2,2,2,2,3,4,1,2,3,4,1,2,2,2,3,3,3,4,1,1,2,3,1])"
   ]
  },
  {
   "cell_type": "code",
   "execution_count": 35,
   "metadata": {},
   "outputs": [
    {
     "data": {
      "text/plain": [
       "[1, 10]"
      ]
     },
     "execution_count": 35,
     "metadata": {},
     "output_type": "execute_result"
    }
   ],
   "source": [
    "def solution(gems):\n",
    "    size = len(set(gems))\n",
    "    start = 0\n",
    "    end = len(gems) - 1\n",
    "    \n",
    "    s = set()\n",
    "    for i in range(len(gems)):\n",
    "        s.add(gems[i])\n",
    "        if len(s) == size:\n",
    "            end = i\n",
    "            break\n",
    "            \n",
    "    s = set()\n",
    "    for j in range(end, -1, -1):\n",
    "        s.add(gems[j])\n",
    "        if len(s) == size:\n",
    "            start = j\n",
    "            break\n",
    "            \n",
    "    return [start + 1, end + 1]\n",
    "\n",
    "\n",
    "solution([1,2,2,2,2,2,2,2,3,4,1,2,3,4,1,2,2,2,3,3,3,4,1,1,2,3,1])"
   ]
  },
  {
   "cell_type": "code",
   "execution_count": 36,
   "metadata": {},
   "outputs": [
    {
     "data": {
      "text/plain": [
       "[1, 10]"
      ]
     },
     "execution_count": 36,
     "metadata": {},
     "output_type": "execute_result"
    }
   ],
   "source": [
    "def solution(gems):\n",
    "    answer = []\n",
    "    a = len(gems)\n",
    "    \n",
    "    \n",
    "    j = -1 \n",
    "    while(True):\n",
    "        if gems.count(gems[-1]) == 1:\n",
    "            answer.append(a + j + 1)\n",
    "            break\n",
    "        else:\n",
    "            del gems[-1]\n",
    "        j -= 1\n",
    "        \n",
    "    j = 0\n",
    "    while(True):\n",
    "        if gems.count(gems[0]) == 1:\n",
    "            answer.insert(0, j + 1)\n",
    "            break\n",
    "        else:\n",
    "            gems.remove(gems[0])\n",
    "        j += 1\n",
    "            \n",
    "    return answer\n",
    "\n",
    "solution([1,2,2,2,2,2,2,2,3,4,1,2,3,4,1,2,2,2,3,3,3,4,1,1,2,3,1])"
   ]
  },
  {
   "cell_type": "code",
   "execution_count": 59,
   "metadata": {},
   "outputs": [
    {
     "data": {
      "text/plain": [
       "[8, 11]"
      ]
     },
     "execution_count": 59,
     "metadata": {},
     "output_type": "execute_result"
    }
   ],
   "source": [
    "def solution(gems):\n",
    "    size = len(set(gems))\n",
    "    start = 0\n",
    "    end = len(gems) - 1\n",
    "            \n",
    "    s = set()\n",
    "    for i in range(len(gems)):\n",
    "        for j in range(i, len(gems)):\n",
    "            s.add(gems[j])\n",
    "            if len(s) == size and end - start > j - i:\n",
    "                start = i\n",
    "                end = j\n",
    "                break\n",
    "        s.clear()\n",
    "    return [start + 1, end + 1]\n",
    "\n",
    "solution([1,2,2,2,2,2,2,2,3,4,1,2,3,4,1,2,2,2,3,3,3,4,1,1,2,3,1])"
   ]
  },
  {
   "cell_type": "code",
   "execution_count": 35,
   "metadata": {},
   "outputs": [
    {
     "data": {
      "text/plain": [
       "[8, 11]"
      ]
     },
     "execution_count": 35,
     "metadata": {},
     "output_type": "execute_result"
    }
   ],
   "source": [
    "def solution(gems):\n",
    "    size = len(set(gems))\n",
    "    dic = {gems[0]:1}\n",
    "    temp = [0, len(gems) - 1]\n",
    "    start , end = 0, 0\n",
    "    \n",
    "    while(start < len(gems) and end < len(gems)):\n",
    "        if len(dic) == size:\n",
    "            if end - start < temp[1] - temp[0]:\n",
    "                temp = [start, end]\n",
    "            if dic[gems[start]] == 1:\n",
    "                del dic[gems[start]]\n",
    "            else:\n",
    "                dic[gems[start]] -= 1\n",
    "            start += 1\n",
    "           \n",
    "        else:\n",
    "            end += 1\n",
    "            if end == len(gems):\n",
    "                break\n",
    "            if gems[end] in dic.keys():\n",
    "                dic[gems[end]] += 1\n",
    "            else:\n",
    "                dic[gems[end]] = 1\n",
    "\n",
    "    return [temp[0]+1, temp[1]+1]\n",
    "\n",
    "#solution([\"DIA\", \"RUBY\", \"RUBY\", \"DIA\", \"DIA\", \"EMERALD\", \"SAPPHIRE\", \"DIA\"])\n",
    "solution([1,2,2,2,2,2,2,2,3,4,1,2,3,4,1,2,2,2,3,3,3,4,1,1,2,3,1])"
   ]
  },
  {
   "cell_type": "code",
   "execution_count": 14,
   "metadata": {},
   "outputs": [
    {
     "data": {
      "text/plain": [
       "[1, 10]"
      ]
     },
     "execution_count": 14,
     "metadata": {},
     "output_type": "execute_result"
    }
   ],
   "source": [
    "import collections\n",
    "\n",
    "def solution(gems):\n",
    "    size = len(set(gems))\n",
    "    dic = collections.Counter(gems)\n",
    "    temp = [0, len(gems) - 1]\n",
    "    start , end = 0, 0\n",
    "    \n",
    "    while(start < len(gems) and end < len(gems)):\n",
    "        if len(set(gems[start:end+1])) == size and end - start < temp[1] - temp[0]:\n",
    "            temp = [start, end]\n",
    "            start += 1      \n",
    "        else:\n",
    "            end += 1\n",
    "\n",
    "    return [temp[0]+1, temp[1]+1]\n",
    "\n",
    "#solution([\"DIA\", \"RUBY\", \"RUBY\", \"DIA\", \"DIA\", \"EMERALD\", \"SAPPHIRE\", \"DIA\"])\n",
    "solution([1,2,2,2,2,2,2,2,3,4,1,2,3,4,1,2,2,2,3,3,3,4,1,1,2,3,1])"
   ]
  },
  {
   "cell_type": "code",
   "execution_count": null,
   "metadata": {},
   "outputs": [],
   "source": [
    "import collections\n",
    "\n",
    "def solution(gems):\n",
    "    size = len(set(gems))\n",
    "    temp = [0, len(gems) - 1]\n",
    "    start , end = 0, 0\n",
    "    \n",
    "    while(start < len(gems) and end < len(gems)):\n",
    "        if len(collections.Counter(gems[start:end+1]).keys()) == size and end - start < temp[1] - temp[0]:\n",
    "            temp = [start, end]\n",
    "            start += 1\n",
    "        else:\n",
    "            end += 1\n",
    "    return [temp[0]+1, temp[1]+1]"
   ]
  },
  {
   "cell_type": "code",
   "execution_count": 43,
   "metadata": {},
   "outputs": [
    {
     "data": {
      "text/plain": [
       "'LLRLLRLLRL'"
      ]
     },
     "execution_count": 43,
     "metadata": {},
     "output_type": "execute_result"
    }
   ],
   "source": [
    "def solution(numbers, hand):\n",
    "    answer = ''\n",
    "    location = [[3, 1], [0, 0], [0, 1], [0, 2], [1, 0], [1, 1], [1, 2], [2, 0], [2, 1], [2, 2]]\n",
    "    left, right = [3, 0], [3, 2]\n",
    "    for i in numbers:\n",
    "        if i % 3 == 1:\n",
    "            answer += 'L'\n",
    "            left = location[i]\n",
    "        elif i % 3 == 0 and i != 0:\n",
    "            answer += 'R'\n",
    "            right = location[i]\n",
    "        else:\n",
    "            l = abs(location[i][0] - left[0]) + abs(location[i][1] - left[1])\n",
    "            r = abs(location[i][0] - right[0]) + abs(location[i][1] - right[1])\n",
    "            if l < r:\n",
    "                answer += 'L'\n",
    "                left = location[i]\n",
    "            elif l > r:\n",
    "                answer += 'R'\n",
    "                right = location[i]\n",
    "            else:\n",
    "                answer += hand[0].upper()\n",
    "                if hand == 'right':\n",
    "                    right = location[i]\n",
    "                else:\n",
    "                    left = location[i]                \n",
    "                \n",
    "    return answer\n",
    "\n",
    "solution([1, 2, 3, 4, 5, 6, 7, 8, 9, 0], 'right')"
   ]
  },
  {
   "cell_type": "code",
   "execution_count": 52,
   "metadata": {},
   "outputs": [
    {
     "name": "stdout",
     "output_type": "stream",
     "text": [
      "[1, 1, 100]\n",
      "[3, 100]\n",
      "[203]\n"
     ]
    },
    {
     "data": {
      "text/plain": [
       "2"
      ]
     },
     "execution_count": 52,
     "metadata": {},
     "output_type": "execute_result"
    }
   ],
   "source": [
    "import heapq\n",
    "def solution(scoville, K):\n",
    "    cnt = 0\n",
    "    heapq.heapify(scoville)\n",
    "    print(scoville)\n",
    "    \n",
    "    while(scoville[0] <= K and len(scoville) != 1):\n",
    "        f1 = heapq.heappop(scoville)\n",
    "        f2 = heapq.heappop(scoville)\n",
    "        heapq.heappush(scoville, f1 + 2 * f2)\n",
    "        cnt += 1\n",
    "        print(scoville)\n",
    "    return cnt if len(scoville) != 0 else -1\n",
    "solution([1, 1, 100], 7)"
   ]
  },
  {
   "cell_type": "code",
   "execution_count": 61,
   "metadata": {},
   "outputs": [
    {
     "data": {
      "text/plain": [
       "4"
      ]
     },
     "execution_count": 61,
     "metadata": {},
     "output_type": "execute_result"
    }
   ],
   "source": [
    "def solution(board):\n",
    "    for i in range(1, len(board)):\n",
    "        for j in range(1, len(board[i])):\n",
    "            board[i][j] += min(board[i - 1][j], board[i][j - 1], board[i - 1][j - 1])\n",
    "    return max(map(max, board))**2\n",
    "\n",
    "solution([[1, 1, 1], [1, 0, 1], [1, 1, 1]])"
   ]
  },
  {
   "cell_type": "code",
   "execution_count": null,
   "metadata": {},
   "outputs": [],
   "source": [
    "import numpy as np\n",
    "\n",
    "def solution(arr1, arr2):\n",
    "    a1 = np.matrix(arr1)\n",
    "    a2 = np.matrix(arr2)\n",
    "    \n",
    "    return list(np.dot(a1, a2))"
   ]
  },
  {
   "cell_type": "code",
   "execution_count": 4,
   "metadata": {},
   "outputs": [
    {
     "name": "stdout",
     "output_type": "stream",
     "text": [
      "2 20\n",
      "4\n",
      "6\n",
      "2 20 [4, 6]\n"
     ]
    }
   ],
   "source": [
    "n , time = map(int, input().split())\n",
    "l = []\n",
    "for i in range(n):\n",
    "    l.append(int(input()))\n",
    "    \n",
    "for j in l:\n",
    "    answer += time//j\n",
    "print(answer - )"
   ]
  },
  {
   "cell_type": "code",
   "execution_count": 25,
   "metadata": {},
   "outputs": [
    {
     "name": "stdout",
     "output_type": "stream",
     "text": [
      "Counter({2: 3, 5: 3, 4: 2, 7: 1, 3: 1})\n"
     ]
    },
    {
     "data": {
      "text/plain": [
       "[-1]"
      ]
     },
     "execution_count": 25,
     "metadata": {},
     "output_type": "execute_result"
    }
   ],
   "source": [
    "import collections\n",
    "\n",
    "def solution(l):\n",
    "    print(collections.Counter([7,3,2,4,4,2,5,2,5,5]))\n",
    "    answer = []\n",
    "    for i in sorted(collections.Counter(l).items()):\n",
    "        if i[1] > 1:\n",
    "            answer.append(i[1])\n",
    "    return answer if answer != [] else [-1]\n",
    "    \n",
    "solution([3,5,7,9,1])"
   ]
  },
  {
   "cell_type": "code",
   "execution_count": 36,
   "metadata": {},
   "outputs": [
    {
     "data": {
      "text/plain": [
       "[2, 4, 2]"
      ]
     },
     "execution_count": 36,
     "metadata": {},
     "output_type": "execute_result"
    }
   ],
   "source": [
    "def solution(l):           #부캠 자가진단 6번\n",
    "    answer = []\n",
    "    for i in set(l):\n",
    "        if l.count(i) == 1:\n",
    "            l.remove(i)\n",
    "    for j in set(l):\n",
    "        answer.append(l.count(j))\n",
    "    return answer if answer != [] else [-1]\n",
    "    \n",
    "solution([1,2,3,3,3,3,4,4,2])"
   ]
  },
  {
   "cell_type": "code",
   "execution_count": 50,
   "metadata": {},
   "outputs": [
    {
     "name": "stdout",
     "output_type": "stream",
     "text": [
      "2\n",
      "2\n",
      "12\n",
      "12\n",
      "3\n",
      "123\n",
      "4\n",
      "5\n",
      "[['12', '12'], ['123', '4', '5']]\n",
      "NO\n",
      "YES\n"
     ]
    }
   ],
   "source": [
    "def solution(phone_book): \n",
    "    for i in range(len(phone_book)): \n",
    "        pivot = phone_book[i] \n",
    "        for j in range(i+1, len(phone_book)): \n",
    "            strlen = min(len(pivot), len(phone_book[j])) \n",
    "            if pivot[:strlen] == phone_book[j][:strlen]: \n",
    "                print('NO') \n",
    "                return\n",
    "    print('YES')\n",
    "    return\n",
    "\n",
    "l = []\n",
    "for i in range(int(input())):\n",
    "    l.append([])\n",
    "    for j in range(int(input())):\n",
    "        l[-1].append(input())\n",
    "        \n",
    "for k in l:\n",
    "    solution(k)\n",
    "        \n"
   ]
  },
  {
   "cell_type": "code",
   "execution_count": 72,
   "metadata": {},
   "outputs": [
    {
     "name": "stdout",
     "output_type": "stream",
     "text": [
      "5\n",
      "aaaaa\n",
      "4\n"
     ]
    }
   ],
   "source": [
    "def solution(s):\n",
    "    temp =[s[i:] for i in range(len(s))]\n",
    "    temp.sort()\n",
    "    \n",
    "    answer = 0\n",
    "    for p1, p2 in zip(temp, temp[1:]):\n",
    "        if p2.startswith(p1):\n",
    "            answer = max(answer, len(p1))\n",
    "    print(answer)\n",
    "    \n",
    "n = int(input())\n",
    "s = input()\n",
    "solution(s)"
   ]
  },
  {
   "cell_type": "code",
   "execution_count": 83,
   "metadata": {},
   "outputs": [
    {
     "name": "stdout",
     "output_type": "stream",
     "text": [
      "3 번째에서 발견했습니다.\n"
     ]
    }
   ],
   "source": [
    "def findString(s, target):              #라빈카브알고리즘 - 문자열 내 타켓 찾기\n",
    "    s_size = len(s)\n",
    "    tar_size = len(target)\n",
    "    \n",
    "    s_hash, tar_hash = 0, 0\n",
    "    power = 1\n",
    "    for i in range(s_size - tar_size + 1):\n",
    "        if i == 0:\n",
    "            for j in range(tar_size):\n",
    "                s_hash += ord(s[tar_size - 1 - j]) * power\n",
    "                tar_hash += ord(target[tar_size - 1 - j]) * power\n",
    "                \n",
    "                if j < tar_size - 1:\n",
    "                    power *= 2\n",
    "        else:\n",
    "            s_hash = 2 * (s_hash - ord(s[i-1]) * power) + ord(s[tar_size - 1 + i])\n",
    "        \n",
    "        if s_hash == tar_hash:\n",
    "            finded = True\n",
    "            for j in range(tar_size):\n",
    "                if s[i+j] != target[j]:\n",
    "                    finded = False\n",
    "                    break\n",
    "            if finded:\n",
    "                print(i+1, \"번째에서 발견했습니다.\")\n",
    "\n",
    "findString('asdfds', 'dfd')"
   ]
  },
  {
   "cell_type": "code",
   "execution_count": 6,
   "metadata": {},
   "outputs": [
    {
     "data": {
      "text/plain": [
       "False"
      ]
     },
     "execution_count": 6,
     "metadata": {},
     "output_type": "execute_result"
    }
   ],
   "source": [
    "'dssadsds' in 'dssadsdfs'"
   ]
  },
  {
   "cell_type": "code",
   "execution_count": 10,
   "metadata": {},
   "outputs": [
    {
     "ename": "TypeError",
     "evalue": "unsupported operand type(s) for -: 'list' and 'list'",
     "output_type": "error",
     "traceback": [
      "\u001b[0;31m---------------------------------------------------------------------------\u001b[0m",
      "\u001b[0;31mTypeError\u001b[0m                                 Traceback (most recent call last)",
      "\u001b[0;32m<ipython-input-10-52ac7693c695>\u001b[0m in \u001b[0;36m<module>\u001b[0;34m\u001b[0m\n\u001b[0;32m----> 1\u001b[0;31m \u001b[0;34m[\u001b[0m\u001b[0;36m1\u001b[0m\u001b[0;34m,\u001b[0m \u001b[0;36m2\u001b[0m\u001b[0;34m,\u001b[0m \u001b[0;36m3\u001b[0m \u001b[0;34m,\u001b[0m \u001b[0;36m3\u001b[0m\u001b[0;34m]\u001b[0m  \u001b[0;34m-\u001b[0m\u001b[0;34m[\u001b[0m\u001b[0;36m3\u001b[0m\u001b[0;34m,\u001b[0m \u001b[0;36m2\u001b[0m\u001b[0;34m]\u001b[0m\u001b[0;34m\u001b[0m\u001b[0;34m\u001b[0m\u001b[0m\n\u001b[0m",
      "\u001b[0;31mTypeError\u001b[0m: unsupported operand type(s) for -: 'list' and 'list'"
     ]
    }
   ],
   "source": [
    "[1, 2, 3 , 3]  -[3, 2]"
   ]
  },
  {
   "cell_type": "code",
   "execution_count": 1,
   "metadata": {},
   "outputs": [
    {
     "name": "stdout",
     "output_type": "stream",
     "text": [
      "20.7 ns ± 0.151 ns per loop (mean ± std. dev. of 7 runs, 10000000 loops each)\n",
      "21.8 ns ± 0.656 ns per loop (mean ± std. dev. of 7 runs, 10000000 loops each)\n",
      "22.1 ns ± 0.259 ns per loop (mean ± std. dev. of 7 runs, 10000000 loops each)\n"
     ]
    }
   ],
   "source": [
    "import random\n",
    "\n",
    "def sol1():\n",
    "    b = [random.randint(1,100) for i in range(1000000)]  \n",
    "    #b = [2,6,7,4,6,5,4,6,7,8,9,8,7,6,5,7,6,5,8,7,6,5,4,3,2,6,7,3,5,4,6,28,9,8,7,6,5,7,6,5,8,7,6,5,4,6,7,8,9,8,7,6,5,7,6,5,8,7,6,5,4,6,7,8,9,8,7,6,5,7,6,5,8,7,6,5,4,6,7,8,9,8,7,6,5,7,6,5,8,7,6,5,4,6,7,8,9,8,7,6,5,7,6,5,8,7,6,5,4,6,7,8,9,8,7,6,5,7,6,5,8,7,6,5,4,6,7,8,9,8,7,6,5,7,6,5,8,7,6,5,4,6,7,8,9,8,7,6,5,7,6,5,8,7,6,5,4,6,7,8,9,8,7,6,5,7,6,5,8,7,6,5,4,6,7,8,9,8,7,6,5,7,6,5,8,7,6,5,4,6,7,8,9,8,7,6,5,7,6,5,8,7,6,5,4,6,7,8,9,8,7,6,5,7,6,5,8,7,6,5,4,6,7,8,9,8,7,6,5,7,6,5,8,7,6,5,4,6,7,8,9,8,7,6,5,7,6,5,8,7,6,5,4,6,7,8,9,8,7,6,5,7,6,5,8,7,6,5,4,6,7,8,9,8,7,6,5,7,6,5,8,7,6,5,4]\n",
    "    ans = []\n",
    "    for i in b:\n",
    "        if i not in ans:\n",
    "            ans.append(i)\n",
    "    return ans\n",
    "\n",
    "def sol2():\n",
    "    b = [random.randint(1,100) for i in range(1000000)]  \n",
    "    #b = [2,6,7,4,6,5,4,6,7,8,9,8,7,6,5,7,6,5,8,7,6,5,4,3,2,6,7,3,5,4,6,28,9,8,7,6,5,7,6,5,8,7,6,5,4,6,7,8,9,8,7,6,5,7,6,5,8,7,6,5,4,6,7,8,9,8,7,6,5,7,6,5,8,7,6,5,4,6,7,8,9,8,7,6,5,7,6,5,8,7,6,5,4,6,7,8,9,8,7,6,5,7,6,5,8,7,6,5,4,6,7,8,9,8,7,6,5,7,6,5,8,7,6,5,4,6,7,8,9,8,7,6,5,7,6,5,8,7,6,5,4,6,7,8,9,8,7,6,5,7,6,5,8,7,6,5,4,6,7,8,9,8,7,6,5,7,6,5,8,7,6,5,4,6,7,8,9,8,7,6,5,7,6,5,8,7,6,5,4,6,7,8,9,8,7,6,5,7,6,5,8,7,6,5,4,6,7,8,9,8,7,6,5,7,6,5,8,7,6,5,4,6,7,8,9,8,7,6,5,7,6,5,8,7,6,5,4,6,7,8,9,8,7,6,5,7,6,5,8,7,6,5,4,6,7,8,9,8,7,6,5,7,6,5,8,7,6,5,4,6,7,8,9,8,7,6,5,7,6,5,8,7,6,5,4]\n",
    "    b.sort()\n",
    "    ans = [b[0]]\n",
    "    temp = b[0]\n",
    "    for i in b:\n",
    "        if i != temp:\n",
    "            temp = i\n",
    "            ans.append(i)\n",
    "    return ans\n",
    "\n",
    "def sol3():\n",
    "    b = [random.randint(1,100) for i in range(1000000)]  \n",
    "    #b = [2,6,7,4,6,5,4,6,7,8,9,8,7,6,5,7,6,5,8,7,6,5,4,3,2,6,7,3,5,4,6,28,9,8,7,6,5,7,6,5,8,7,6,5,4,6,7,8,9,8,7,6,5,7,6,5,8,7,6,5,4,6,7,8,9,8,7,6,5,7,6,5,8,7,6,5,4,6,7,8,9,8,7,6,5,7,6,5,8,7,6,5,4,6,7,8,9,8,7,6,5,7,6,5,8,7,6,5,4,6,7,8,9,8,7,6,5,7,6,5,8,7,6,5,4,6,7,8,9,8,7,6,5,7,6,5,8,7,6,5,4,6,7,8,9,8,7,6,5,7,6,5,8,7,6,5,4,6,7,8,9,8,7,6,5,7,6,5,8,7,6,5,4,6,7,8,9,8,7,6,5,7,6,5,8,7,6,5,4,6,7,8,9,8,7,6,5,7,6,5,8,7,6,5,4,6,7,8,9,8,7,6,5,7,6,5,8,7,6,5,4,6,7,8,9,8,7,6,5,7,6,5,8,7,6,5,4,6,7,8,9,8,7,6,5,7,6,5,8,7,6,5,4,6,7,8,9,8,7,6,5,7,6,5,8,7,6,5,4,6,7,8,9,8,7,6,5,7,6,5,8,7,6,5,4]\n",
    "    return list(set(b))\n",
    "\n",
    "%timeit sol1\n",
    "%timeit sol2\n",
    "%timeit sol3"
   ]
  },
  {
   "cell_type": "code",
   "execution_count": 17,
   "metadata": {},
   "outputs": [
    {
     "name": "stdout",
     "output_type": "stream",
     "text": [
      "18\n",
      "42\n"
     ]
    }
   ],
   "source": [
    "n = int(input())\n",
    "\n",
    "def solution(n):\n",
    "    memo = []\n",
    "    i = 0\n",
    "    \n",
    "    while(len(memo) <= n):\n",
    "        temp = list(str(i))\n",
    "        if len(set(temp)) != len(temp):\n",
    "            i += 1\n",
    "            continue\n",
    "        if ''.join(sorted(temp, reverse = True)) == str(i):\n",
    "            memo.append(i)\n",
    "        i += 1\n",
    "    print(memo[-1])\n",
    "solution(n)"
   ]
  },
  {
   "cell_type": "code",
   "execution_count": null,
   "metadata": {},
   "outputs": [],
   "source": [
    "def solution(l):\n",
    "    answer = 0\n",
    "    while(l != []):\n",
    "        answer += 1\n",
    "        q = [l[0]]\n",
    "        while(q != []):\n",
    "            a = q[0][0]\n",
    "            b = q[0][1]\n",
    "            if [a-1, b] in l and [a-1, b] not in q:\n",
    "                q.append([a-1, b])\n",
    "            if [a+1, b] in l and [a+1, b] not in q:\n",
    "                q.append([a+1, b])\n",
    "            if [a, b-1] in l and [a, b-1] not in q:\n",
    "                q.append([a, b-1])\n",
    "            if [a, b+1] in l and [a, b+1] not in q:\n",
    "                q.append([a, b+1])\n",
    "            l.remove([a, b])\n",
    "            q.pop(0)\n",
    "    print(answer)\n",
    "    \n",
    "\n",
    "for i in range(int(input())):\n",
    "    l = []\n",
    "    a, b, c = map(int, input().split())\n",
    "    for j in range(c):\n",
    "        l.append(map(int, input().split()))\n",
    "    solution(l)\n"
   ]
  },
  {
   "cell_type": "code",
   "execution_count": 5,
   "metadata": {},
   "outputs": [
    {
     "name": "stdout",
     "output_type": "stream",
     "text": [
      "[('3', 'D', ''), ('2', 'S', '*'), ('10', 'T', '')]\n"
     ]
    },
    {
     "data": {
      "text/plain": [
       "1022"
      ]
     },
     "execution_count": 5,
     "metadata": {},
     "output_type": "execute_result"
    }
   ],
   "source": [
    "import re\n",
    "\n",
    "def solution(dartResult):\n",
    "    bonus = {'S' : 1, 'D' : 2, 'T' : 3}\n",
    "    option = {'' : 1, '*' : 2, '#' : -1}\n",
    "    p = re.compile('(\\d+)([SDT])([*#]?)')\n",
    "    dart = p.findall(dartResult)\n",
    "    print(dart)\n",
    "    for i in range(len(dart)):\n",
    "        if dart[i][2] == '*' and i > 0:\n",
    "            dart[i-1] *= 2\n",
    "        dart[i] = int(dart[i][0]) ** bonus[dart[i][1]] * option[dart[i][2]]\n",
    "\n",
    "    answer = sum(dart)\n",
    "    return answer\n",
    "\n",
    "solution('3D2S*#10T')"
   ]
  },
  {
   "cell_type": "code",
   "execution_count": 20,
   "metadata": {},
   "outputs": [
    {
     "name": "stdout",
     "output_type": "stream",
     "text": [
      "[['D', 'G', 'J'], ['D', 'G', 'I', 'J'], ['D', 'G', 'H', 'J']]\n",
      "[['D', 'G', 'H', 'J'], ['D', 'G', 'I', 'J'], ['D', 'G', 'J']]\n"
     ]
    },
    {
     "data": {
      "text/plain": [
       "[3, 5, 4]"
      ]
     },
     "execution_count": 20,
     "metadata": {},
     "output_type": "execute_result"
    }
   ],
   "source": [
    "#부스트캠프 2번\n",
    "g = {'A':{'B':1, 'C':2, 'F':4}, 'B':{'D':2,'E':1},'C':{'D':2},'D':{'G':1,'K':2}, 'E':{'H':1}, 'F':{'G':3},'G':{'H':1,'I':2, 'J':3},'H':{'J':1,'K':2},'I':{'J':2},'J':{},'K':{}}\n",
    "\n",
    "def nextNodes(node):\n",
    "    return set(g[node].keys())\n",
    "\n",
    "def bfs_paths(graph, start, goal):\n",
    "    queue = [(start, [start])]\n",
    "    result = []\n",
    "\n",
    "    while queue:\n",
    "        n, path = queue.pop(0)\n",
    "        if n == goal:\n",
    "            result.append(path)\n",
    "        else:\n",
    "            for m in nextNodes(n) - set(path):\n",
    "                queue.append((m, path + [m]))\n",
    "    return result\n",
    "\n",
    "def addWeights(l):\n",
    "    answer = []\n",
    "    for i in l:\n",
    "        ans = 0\n",
    "        for j in range(len(i) - 1):\n",
    "            ans += g[i[j]][i[j+1]]\n",
    "        answer.append(ans)\n",
    "    return answer\n",
    "\n",
    "def solution(start, end):\n",
    "    temp = bfs_paths(g, start, end)\n",
    "    print(temp)\n",
    "    temp.sort()\n",
    "    print(temp)\n",
    "    answer = addWeights(temp)\n",
    "    \n",
    "    return answer if answer != [] else [-1]\n",
    "\n",
    "solution('D', 'J')"
   ]
  },
  {
   "cell_type": "code",
   "execution_count": null,
   "metadata": {},
   "outputs": [],
   "source": [
    "keyboard = [['1','2','3','4','5','6','7','8','9','0'],\n",
    "            ['Q','W','E','R','T','Y','U','I','O','P'],\n",
    "            ['A','S','D','F','G','H','J','K','L','Z'],\n",
    "            ['X','C','V','B','N','M','.','/','[',']']]\n",
    "\n",
    "def index(l, c):\n",
    "    for i in range(len(l)):\n",
    "        if l[i] == c:\n",
    "            return i\n",
    "\n",
    "def findIndex(c):\n",
    "    temp = [0, 0]\n",
    "    for i in range(len(keyboard)):\n",
    "        if c in keyboard[i]:\n",
    "            temp = [i, index(keyboard[i],c)]\n",
    "            return temp\n",
    "        \n",
    "def printText(start, end):\n",
    "    x = end[0] - start[0]\n",
    "    y = end[1] - start[1]\n",
    "    \n",
    "\n",
    "def solution(s):\n",
    "    for i in s:\n",
    "        "
   ]
  },
  {
   "cell_type": "code",
   "execution_count": 3,
   "metadata": {},
   "outputs": [
    {
     "name": "stdout",
     "output_type": "stream",
     "text": [
      "[[0], [1, 2]]\n",
      "2\n"
     ]
    }
   ],
   "source": [
    "import itertools\n",
    "\n",
    "def solution(relation):\n",
    "    answer = []\n",
    "    newR = []\n",
    "    num = len(relation)\n",
    "    index_list = [i for i in range(0, len(relation[0]))]\n",
    "    count = 0\n",
    "    for i in range(len(relation[0])):\n",
    "        newR.append([])\n",
    "        for j in range(num):\n",
    "            newR[i - count].append(relation[j][i])\n",
    "    \n",
    "    j = 1\n",
    "    while j <= len(relation[0]):\n",
    "        temp = list(map(list, itertools.combinations(index_list, j)))\n",
    "\n",
    "        for k in temp:\n",
    "            temp2 = plusArray(newR,k)\n",
    "\n",
    "            if isSame(temp2) == False and filterArray(answer, k):\n",
    "                answer.append(k)\n",
    "        j += 1\n",
    "     \n",
    "    return len(answer)\n",
    "\n",
    "def plusArray(arr, indexArr):\n",
    "    newA = [[] for i in range(len(arr[0]))]\n",
    "    for j in indexArr:\n",
    "        for k in range(len(arr[0])):\n",
    "            newA[k].append(arr[j][k])\n",
    "    return newA\n",
    "\n",
    "def isSame(arr):\n",
    "    for i in range(len(arr)):\n",
    "        for j in range(i + 1, len(arr)):\n",
    "            if arr[i] == arr[j]:\n",
    "                return True\n",
    "    return False\n",
    "\n",
    "def filterArray(arr, item):\n",
    "    for i in arr:\n",
    "        if set(i) - set(item) == set():\n",
    "            return False\n",
    "    return True\n",
    "                \n",
    "print(solution([[\"100\",\"ryan\",\"music\",\"2\"],[\"200\",\"apeach\",\"math\",\"2\"],\n",
    "          [\"300\",\"tube\",\"computer\",\"3\"],[\"400\",\"con\",\"computer\",\"4\"],\n",
    "          [\"500\",\"muzi\",\"music\",\"3\"],[\"600\",\"apeach\",\"music\",\"2\"]]))"
   ]
  },
  {
   "cell_type": "code",
   "execution_count": 135,
   "metadata": {},
   "outputs": [
    {
     "data": {
      "text/plain": [
       "['Prodo님이 들어왔습니다.', 'Ryan님이 들어왔습니다.', 'Prodo님이 나갔습니다.', 'Prodo님이 들어왔습니다.']"
      ]
     },
     "execution_count": 135,
     "metadata": {},
     "output_type": "execute_result"
    }
   ],
   "source": [
    "def solution(record):\n",
    "    dic = {}\n",
    "    answer = []\n",
    "    for i in record:\n",
    "        temp = i.split()\n",
    "        if temp[0] == \"Leave\":\n",
    "            continue\n",
    "        dic[temp[1]] = temp[2]\n",
    "        \n",
    "    for j in record:\n",
    "        temp = j.split()\n",
    "        if temp[0] == 'Change':\n",
    "            continue\n",
    "        if temp[0] == 'Enter':\n",
    "            answer.append(dic[temp[1]]+\"님이 들어왔습니다.\")\n",
    "        else:\n",
    "            answer.append(dic[temp[1]]+\"님이 나갔습니다.\")\n",
    "    return answer\n",
    "\n",
    "solution([\"Enter uid1234 Muzi\", \"Enter uid4567 Prodo\",\"Leave uid1234\",\"Enter uid1234 Prodo\",\"Change uid4567 Ryan\"])"
   ]
  },
  {
   "cell_type": "code",
   "execution_count": 20,
   "metadata": {
    "scrolled": false
   },
   "outputs": [
    {
     "name": "stdout",
     "output_type": "stream",
     "text": [
      "[['frodo', 'frodo', 'abc123', 'abc123'], ['fradi', 'frodo', 'abc123', 'abc123'], ['frodo', 'crodo', 'abc123', 'abc123'], ['fradi', 'crodo', 'abc123', 'abc123'], ['frodo', 'frodo', 'frodoc', 'abc123'], ['fradi', 'frodo', 'frodoc', 'abc123'], ['frodo', 'crodo', 'frodoc', 'abc123'], ['fradi', 'crodo', 'frodoc', 'abc123'], ['frodo', 'frodo', 'abc123', 'frodoc'], ['fradi', 'frodo', 'abc123', 'frodoc'], ['frodo', 'crodo', 'abc123', 'frodoc'], ['fradi', 'crodo', 'abc123', 'frodoc'], ['frodo', 'frodo', 'frodoc', 'frodoc'], ['fradi', 'frodo', 'frodoc', 'frodoc'], ['frodo', 'crodo', 'frodoc', 'frodoc'], ['fradi', 'crodo', 'frodoc', 'frodoc']]\n"
     ]
    },
    {
     "ename": "TypeError",
     "evalue": "unhashable type: 'set'",
     "output_type": "error",
     "traceback": [
      "\u001b[0;31m---------------------------------------------------------------------------\u001b[0m",
      "\u001b[0;31mTypeError\u001b[0m                                 Traceback (most recent call last)",
      "\u001b[0;32m<ipython-input-20-4caa0d6cb4f9>\u001b[0m in \u001b[0;36m<module>\u001b[0;34m\u001b[0m\n\u001b[1;32m     43\u001b[0m     \u001b[0;32mreturn\u001b[0m \u001b[0mans\u001b[0m\u001b[0;34m\u001b[0m\u001b[0;34m\u001b[0m\u001b[0m\n\u001b[1;32m     44\u001b[0m \u001b[0;34m\u001b[0m\u001b[0m\n\u001b[0;32m---> 45\u001b[0;31m \u001b[0mprint\u001b[0m\u001b[0;34m(\u001b[0m\u001b[0msolution\u001b[0m\u001b[0;34m(\u001b[0m\u001b[0;34m[\u001b[0m\u001b[0;34m\"frodo\"\u001b[0m\u001b[0;34m,\u001b[0m \u001b[0;34m\"fradi\"\u001b[0m\u001b[0;34m,\u001b[0m \u001b[0;34m\"crodo\"\u001b[0m\u001b[0;34m,\u001b[0m \u001b[0;34m\"abc123\"\u001b[0m\u001b[0;34m,\u001b[0m \u001b[0;34m\"frodoc\"\u001b[0m\u001b[0;34m]\u001b[0m\u001b[0;34m,\u001b[0m \u001b[0;34m[\u001b[0m\u001b[0;34m\"fr*d*\"\u001b[0m\u001b[0;34m,\u001b[0m \u001b[0;34m\"*rodo\"\u001b[0m\u001b[0;34m,\u001b[0m \u001b[0;34m\"******\"\u001b[0m\u001b[0;34m,\u001b[0m \u001b[0;34m\"******\"\u001b[0m\u001b[0;34m]\u001b[0m\u001b[0;34m)\u001b[0m\u001b[0;34m)\u001b[0m\u001b[0;34m\u001b[0m\u001b[0;34m\u001b[0m\u001b[0m\n\u001b[0m",
      "\u001b[0;32m<ipython-input-20-4caa0d6cb4f9>\u001b[0m in \u001b[0;36msolution\u001b[0;34m(user_id, banned_id)\u001b[0m\n\u001b[1;32m     13\u001b[0m     \u001b[0;32mfor\u001b[0m \u001b[0mi\u001b[0m \u001b[0;32min\u001b[0m \u001b[0mcombList\u001b[0m\u001b[0;34m:\u001b[0m\u001b[0;34m\u001b[0m\u001b[0;34m\u001b[0m\u001b[0m\n\u001b[1;32m     14\u001b[0m         \u001b[0;32mif\u001b[0m \u001b[0mlen\u001b[0m\u001b[0;34m(\u001b[0m\u001b[0mi\u001b[0m\u001b[0;34m)\u001b[0m \u001b[0;34m==\u001b[0m \u001b[0mlen\u001b[0m\u001b[0;34m(\u001b[0m\u001b[0mset\u001b[0m\u001b[0;34m(\u001b[0m\u001b[0mi\u001b[0m\u001b[0;34m)\u001b[0m\u001b[0;34m)\u001b[0m \u001b[0;32mand\u001b[0m \u001b[0mset\u001b[0m\u001b[0;34m(\u001b[0m\u001b[0mi\u001b[0m\u001b[0;34m)\u001b[0m \u001b[0;32mnot\u001b[0m \u001b[0;32min\u001b[0m \u001b[0mnewList\u001b[0m\u001b[0;34m:\u001b[0m\u001b[0;34m\u001b[0m\u001b[0;34m\u001b[0m\u001b[0m\n\u001b[0;32m---> 15\u001b[0;31m             \u001b[0mnewList\u001b[0m\u001b[0;34m.\u001b[0m\u001b[0madd\u001b[0m\u001b[0;34m(\u001b[0m\u001b[0mset\u001b[0m\u001b[0;34m(\u001b[0m\u001b[0mi\u001b[0m\u001b[0;34m)\u001b[0m\u001b[0;34m)\u001b[0m\u001b[0;34m\u001b[0m\u001b[0;34m\u001b[0m\u001b[0m\n\u001b[0m\u001b[1;32m     16\u001b[0m \u001b[0;34m\u001b[0m\u001b[0m\n\u001b[1;32m     17\u001b[0m     \u001b[0;31m#items = set(map(tuple, newList))\u001b[0m\u001b[0;34m\u001b[0m\u001b[0;34m\u001b[0m\u001b[0;34m\u001b[0m\u001b[0m\n",
      "\u001b[0;31mTypeError\u001b[0m: unhashable type: 'set'"
     ]
    }
   ],
   "source": [
    "import re\n",
    "import copy\n",
    "\n",
    "def solution(user_id, banned_id):\n",
    "    answerList = []\n",
    "    strID = ',' + ','.join(user_id) + ','\n",
    "    for i in banned_id:\n",
    "        reg = makeRegex(i)\n",
    "        answerList.append(re.findall(reg, strID))\n",
    "    combList = comb(answerList)\n",
    "    print(combList)\n",
    "    newList = set()\n",
    "    for i in combList:\n",
    "        if len(i) == len(set(i)) and set(i):\n",
    "            newList.add(set(i))\n",
    "            \n",
    "    items = set(map(tuple, newList))\n",
    "    return len(items)\n",
    "\n",
    "def makeRegex(id):\n",
    "    regex = \"(?<=,)\"\n",
    "    for i in id:\n",
    "        if i != '*':\n",
    "            regex += i\n",
    "        else:\n",
    "            regex += \"[a-z0-9]\"\n",
    "    return regex + \"(?=,)\"\n",
    "\n",
    "def comb(id_list):\n",
    "    ans = [[i] for i in id_list[0]]\n",
    "    for i in id_list[1:]:\n",
    "        newAns = copy.deepcopy(ans)\n",
    "        for k in range(len(i) - 1):\n",
    "            newAns += copy.deepcopy(ans)\n",
    "        num = int(len(newAns)/len(i))\n",
    "        ind = 0\n",
    "        for j in i:\n",
    "            for _ in range(num):\n",
    "                newAns[ind].append(j)\n",
    "                ind += 1\n",
    "        ans = copy.deepcopy(newAns)\n",
    "        ind = 0\n",
    "    return ans\n",
    "\n",
    "print(solution([\"frodo\", \"fradi\", \"crodo\", \"abc123\", \"frodoc\"], [\"fr*d*\", \"*rodo\", \"******\", \"******\"]))"
   ]
  },
  {
   "cell_type": "code",
   "execution_count": 4,
   "metadata": {},
   "outputs": [
    {
     "data": {
      "text/plain": [
       "14"
      ]
     },
     "execution_count": 4,
     "metadata": {},
     "output_type": "execute_result"
    }
   ],
   "source": [
    "def solution(s):\n",
    "    n = len(s)\n",
    "    start = n//2\n",
    "    answer = [n]\n",
    "    \n",
    "    for i in range(start, 0, -1):\n",
    "        divided = list(map(''.join, zip(*[iter(s)]*i)))\n",
    "        if len(divided) - len(set(divided)) == 0:\n",
    "            continue\n",
    "        temp = divided[0]\n",
    "        cnt = 1\n",
    "        result = n\n",
    "        for j in range(1, len(divided)):\n",
    "            if temp == divided[j]:\n",
    "                cnt += 1\n",
    "            else:\n",
    "                if cnt != 1:\n",
    "                    result = result - (cnt*i) + i + len(str(cnt))\n",
    "                temp = divided[j]\n",
    "                cnt = 1\n",
    "        if cnt != 1:\n",
    "            result = result - (cnt*i) + i + len(str(cnt))\n",
    "        answer.append(result)\n",
    "                \n",
    "    return sorted(answer)[0]\n",
    "\n",
    "solution(\t\"abcabcabcabcdededededede\")"
   ]
  },
  {
   "cell_type": "code",
   "execution_count": 21,
   "metadata": {},
   "outputs": [
    {
     "name": "stdout",
     "output_type": "stream",
     "text": [
      "['FR', 'RA', 'AN', 'CE'] ['FR', 'RE', 'NC', 'CH']\n"
     ]
    },
    {
     "data": {
      "text/plain": [
       "9362.0"
      ]
     },
     "execution_count": 21,
     "metadata": {},
     "output_type": "execute_result"
    }
   ],
   "source": [
    "import re, collections\n",
    "\n",
    "def solution(str1, str2):\n",
    "\n",
    "    d1 = [i for i in [str1[i:i+2].upper() for i in range(len(str1) - 1)] if i == re.compile('[^a-zA-Z]').sub('', i)]\n",
    "    d2 = [i for i in [str2[i:i+2].upper() for i in range(len(str2) - 1)] if i == re.compile('[^a-zA-Z]').sub('', i)]\n",
    "    print(d1, d2)\n",
    "    intersec = 0\n",
    "    for k in set(d1).intersection(set(d2)):\n",
    "        intersec += min(collections.Counter(d1)[k], collections.Counter(d2)[k])\n",
    "\n",
    "    return (intersec/(len(d1) + len(d2) - intersec) * 65536) // 1 if len(d1) + len(d2) - intersec != 0 else 65536\n",
    "\n",
    "solution(\"FRANCE\", \"FRENCH\")"
   ]
  },
  {
   "cell_type": "code",
   "execution_count": 37,
   "metadata": {},
   "outputs": [
    {
     "name": "stdout",
     "output_type": "stream",
     "text": [
      "[[0, 0, 0, 0, 0, 0, 0], [0, 0, 0, 0, 0, 0, 0], [0, 0, 1, 1, 1, 0, 0], [0, 0, 1, 1, 0, 0, 0], [0, 0, 1, 1, 1, 0, 0], [0, 0, 0, 0, 1, 1, 0], [0, 0, 0, 0, 0, 0, 0]]\n",
      "[[0, 0, 0, 0, 0, 0, 0], [0, 0, 0, 0, 0, 0, 0], [0, 0, 1, 1, 1, 0, 0], [0, 0, 1, 1, 1, 0, 0], [0, 0, 1, 1, 1, 0, 0], [0, 0, 0, 1, 0, 0, 0], [0, 0, 0, 0, 0, 0, 0]]\n"
     ]
    },
    {
     "data": {
      "text/plain": [
       "True"
      ]
     },
     "execution_count": 37,
     "metadata": {},
     "output_type": "execute_result"
    }
   ],
   "source": [
    "import copy\n",
    "\n",
    "def rotate_90(m):\n",
    "    N = len(m)\n",
    "    ret = [[0] * N for _ in range(N)]\n",
    "\n",
    "    for r in range(N):\n",
    "        for c in range(N):\n",
    "            ret[c][N-1-r] = m[r][c]\n",
    "    return ret\n",
    "\n",
    "def checkKey(key, arr, width, height):\n",
    "    for i in range(len(key)):\n",
    "        for j in range(len(key)):\n",
    "            arr[i + width][j + height] += key[i][j]\n",
    "            if arr[i + width][j + height] >= 2:\n",
    "                return False\n",
    "\n",
    "    for k in range(len(arr) - len(key)*2 + 2):\n",
    "        for l in range(len(arr) - len(key)*2 + 2):\n",
    "            if arr[k+len(key)-1][l + len(key)-1] != 1:\n",
    "                return False\n",
    "        \n",
    "    return True\n",
    "    \n",
    "\n",
    "def solution(key, lock):\n",
    "    keyLen = len(key)\n",
    "    lockLen = len(lock)\n",
    "    rotated_key = [key]\n",
    "    size = 2*keyLen+lockLen-2\n",
    "    bigArr = [[0]* size for _ in range(7)]\n",
    "    \n",
    "    for i in range(keyLen - 1, keyLen + lockLen - 1):\n",
    "        for j in range(keyLen - 1, keyLen + lockLen - 1):\n",
    "            bigArr[i][j] = lock[i - keyLen + 1][j - keyLen + 1]\n",
    "        rotated_key.append(rotate_90(rotated_key[-1]))\n",
    "\n",
    "    width = 0\n",
    "    height = 0\n",
    "    \n",
    "    origin = copy.deepcopy(bigArr)\n",
    "\n",
    "    for key in rotated_key:\n",
    "        width, height = 0, 0\n",
    "        for k in range(size - keyLen + 1):\n",
    "            if width == size - keyLen + 1:\n",
    "                continue\n",
    "            height = 0\n",
    "            for l in range(size - keyLen + 1):\n",
    "                if checkKey(key, bigArr, width, height):\n",
    "                    return True\n",
    "                bigArr = copy.deepcopy(origin)\n",
    "                height += 1\n",
    "            width += 1\n",
    "\n",
    "    return False\n",
    "\n",
    "solution([[0, 0, 0], [1, 0, 0], [0, 1, 1]], [[1, 1, 1], [1, 1, 0], [1, 0, 1]]\t)"
   ]
  },
  {
   "cell_type": "code",
   "execution_count": 57,
   "metadata": {},
   "outputs": [
    {
     "name": "stdout",
     "output_type": "stream",
     "text": [
      "0,0,0,0,0,0,0,0,17,0\n",
      "1 33 17\n",
      "1 17 17\n",
      "0,0,0,0,0,0,0,0,25,0\n",
      "1 17 9\n",
      "1 9 9\n",
      "0,0,0,0,0,0,0,0,29,0\n",
      "1 9 5\n",
      "1 5 5\n",
      "0,0,0,0,0,0,0,0,31,0\n",
      "1 5 3\n",
      "1 3 3\n",
      "0,0,0,0,0,0,0,0,32,1\n",
      "1 3 2\n",
      "1 2 2\n"
     ]
    },
    {
     "data": {
      "text/plain": [
       "1"
      ]
     },
     "execution_count": 57,
     "metadata": {},
     "output_type": "execute_result"
    }
   ],
   "source": [
    "def isOkay(stones, k):\n",
    "    if ('0,'*k)[:-1] in stones:\n",
    "        return False\n",
    "    return True\n",
    "\n",
    "def check(stones, ans, k):\n",
    "    arr = ''\n",
    "    for i in stones:\n",
    "        if i-ans>=0:\n",
    "            arr += str(i-ans)+','\n",
    "        else:\n",
    "            arr += '0,'\n",
    "    arr = arr[:-1]\n",
    "    okay = isOkay(arr, k)\n",
    "    \n",
    "    arr2 = ''\n",
    "    for i in stones:\n",
    "        if i-ans-1>=0:\n",
    "            arr2 += str(i-ans-1)+','\n",
    "        else:\n",
    "            arr2 += '0,'\n",
    "    arr2 = arr2[:-1]\n",
    "    okay2 = isOkay(arr2, k)\n",
    "    \n",
    "    return True if okay == True and okay2 == False else False\n",
    "\n",
    "def solution(stones, k):\n",
    "    # 답이 될수있는 최소, 최댓값\n",
    "    minimum = min(stones)\n",
    "    maximum = max(stones)\n",
    "    \n",
    "    if minimum == maximum or len(stones) == k:\n",
    "        return maximum\n",
    "    \n",
    "    while minimum != maximum - 1:\n",
    "        ans = (minimum + maximum) // 2\n",
    "        arr = ''\n",
    "        for i in stones:\n",
    "            if i-ans+1>=0:\n",
    "                arr += str(i-ans+1)+','\n",
    "            else:\n",
    "                arr += '0,'\n",
    "        arr = arr[:-1]\n",
    "        print(arr)\n",
    "        print(minimum, maximum, ans)\n",
    "        if isOkay(arr, k):\n",
    "            minimum = ans\n",
    "            temp = maximum\n",
    "        else:\n",
    "            maximum = ans\n",
    "            temp = minimum\n",
    "        print(minimum, maximum, ans)\n",
    "\n",
    "        if check(stones, minimum, k):\n",
    "            return minimum+1\n",
    "        elif check(stones, maximum, k):\n",
    "            return maximum+1\n",
    "    return temp\n",
    "\n",
    "#solution([1,1,1,1,1,1,1,1,33,2], 2)\n",
    "#solution([2, 4, 5, 3, 2, 1, 4, 2, 5, 1], 3)\n",
    "#solution([2,2,2,2,2,1,1,1,1,5,5,5,6,7], 14)\n",
    "#solution([2,34,23,42,3,4,3,2,5], 5)\n",
    "#solution([5,3,2,3,4,6,7,3], 3)"
   ]
  },
  {
   "cell_type": "code",
   "execution_count": 52,
   "metadata": {},
   "outputs": [
    {
     "name": "stdout",
     "output_type": "stream",
     "text": [
      "[('ES', 3), ('FS', 3), ('AG', 2), ('GJ', 2), ('GR', 2), ('EF', 2), ('ER', 2), ('FH', 2), ('HS', 2), ('RS', 2), ('DS', 2), ('DU', 2), ('SU', 2), ('AGJ', 2), ('AGR', 2), ('GJR', 2), ('EFS', 2), ('ERS', 2), ('FHS', 2), ('DSU', 2), ('AGJR', 2), ('AJ', 1), ('AR', 1), ('GG', 1), ('JR', 1), ('EJ', 1), ('EQ', 1), ('FJ', 1), ('FQ', 1), ('JQ', 1), ('JS', 1), ('QS', 1), ('EH', 1), ('EO', 1), ('FO', 1), ('FR', 1), ('HO', 1), ('HR', 1), ('OR', 1), ('OS', 1), ('DF', 1), ('DH', 1), ('DI', 1), ('FI', 1), ('FU', 1), ('HI', 1), ('HU', 1), ('IS', 1), ('IU', 1), ('AB', 1), ('AC', 1), ('AN', 1), ('AV', 1), ('AX', 1), ('BC', 1), ('BN', 1), ('BV', 1), ('BX', 1), ('CN', 1), ('CV', 1), ('CX', 1), ('NV', 1), ('NX', 1), ('VX', 1), ('DE', 1), ('DR', 1), ('DT', 1), ('DW', 1), ('DY', 1), ('ET', 1), ('EU', 1), ('EW', 1), ('EY', 1), ('RT', 1), ('RU', 1), ('RW', 1), ('RY', 1), ('ST', 1), ('SW', 1), ('SY', 1), ('TU', 1), ('TW', 1), ('TY', 1), ('UW', 1), ('UY', 1), ('WY', 1), ('LS', 1), ('AGG', 1), ('AJR', 1), ('GGJ', 1), ('GGR', 1), ('EFJ', 1), ('EFQ', 1), ('EJQ', 1), ('EJS', 1), ('EQS', 1), ('FJQ', 1), ('FJS', 1), ('FQS', 1), ('JQS', 1), ('EFH', 1), ('EFO', 1), ('EFR', 1), ('EHO', 1), ('EHR', 1), ('EHS', 1), ('EOR', 1), ('EOS', 1), ('FHO', 1), ('FHR', 1), ('FOR', 1), ('FOS', 1), ('FRS', 1), ('HOR', 1), ('HOS', 1), ('HRS', 1), ('ORS', 1), ('DFH', 1), ('DFI', 1), ('DFS', 1), ('DFU', 1), ('DHI', 1), ('DHS', 1), ('DHU', 1), ('DIS', 1), ('DIU', 1), ('FHI', 1), ('FHU', 1), ('FIS', 1), ('FIU', 1), ('FSU', 1), ('HIS', 1), ('HIU', 1), ('HSU', 1), ('ISU', 1), ('ABC', 1), ('ABN', 1), ('ABV', 1), ('ABX', 1), ('ACN', 1), ('ACV', 1), ('ACX', 1), ('ANV', 1), ('ANX', 1), ('AVX', 1), ('BCN', 1), ('BCV', 1), ('BCX', 1), ('BNV', 1), ('BNX', 1), ('BVX', 1), ('CNV', 1), ('CNX', 1), ('CVX', 1), ('NVX', 1), ('DER', 1), ('DES', 1), ('DET', 1), ('DEU', 1), ('DEW', 1), ('DEY', 1), ('DRS', 1), ('DRT', 1), ('DRU', 1), ('DRW', 1), ('DRY', 1), ('DST', 1), ('DSW', 1), ('DSY', 1), ('DTU', 1), ('DTW', 1), ('DTY', 1), ('DUW', 1), ('DUY', 1), ('DWY', 1), ('ERT', 1), ('ERU', 1), ('ERW', 1), ('ERY', 1), ('EST', 1), ('ESU', 1), ('ESW', 1), ('ESY', 1), ('ETU', 1), ('ETW', 1), ('ETY', 1), ('EUW', 1), ('EUY', 1), ('EWY', 1), ('RST', 1), ('RSU', 1), ('RSW', 1), ('RSY', 1), ('RTU', 1), ('RTW', 1), ('RTY', 1), ('RUW', 1), ('RUY', 1), ('RWY', 1), ('STU', 1), ('STW', 1), ('STY', 1), ('SUW', 1), ('SUY', 1), ('SWY', 1), ('TUW', 1), ('TUY', 1), ('TWY', 1), ('UWY', 1), ('AGGJ', 1), ('AGGR', 1), ('GGJR', 1), ('EFJQ', 1), ('EFJS', 1), ('EFQS', 1), ('EJQS', 1), ('FJQS', 1), ('EFHO', 1), ('EFHR', 1), ('EFHS', 1), ('EFOR', 1), ('EFOS', 1), ('EFRS', 1), ('EHOR', 1), ('EHOS', 1), ('EHRS', 1), ('EORS', 1), ('FHOR', 1), ('FHOS', 1), ('FHRS', 1), ('FORS', 1), ('HORS', 1), ('DFHI', 1), ('DFHS', 1), ('DFHU', 1), ('DFIS', 1), ('DFIU', 1), ('DFSU', 1), ('DHIS', 1), ('DHIU', 1), ('DHSU', 1), ('DISU', 1), ('FHIS', 1), ('FHIU', 1), ('FHSU', 1), ('FISU', 1), ('HISU', 1), ('ABCN', 1), ('ABCV', 1), ('ABCX', 1), ('ABNV', 1), ('ABNX', 1), ('ABVX', 1), ('ACNV', 1), ('ACNX', 1), ('ACVX', 1), ('ANVX', 1), ('BCNV', 1), ('BCNX', 1), ('BCVX', 1), ('BNVX', 1), ('CNVX', 1), ('DERS', 1), ('DERT', 1), ('DERU', 1), ('DERW', 1), ('DERY', 1), ('DEST', 1), ('DESU', 1), ('DESW', 1), ('DESY', 1), ('DETU', 1), ('DETW', 1), ('DETY', 1), ('DEUW', 1), ('DEUY', 1), ('DEWY', 1), ('DRST', 1), ('DRSU', 1), ('DRSW', 1), ('DRSY', 1), ('DRTU', 1), ('DRTW', 1), ('DRTY', 1), ('DRUW', 1), ('DRUY', 1), ('DRWY', 1), ('DSTU', 1), ('DSTW', 1), ('DSTY', 1), ('DSUW', 1), ('DSUY', 1), ('DSWY', 1), ('DTUW', 1), ('DTUY', 1), ('DTWY', 1), ('DUWY', 1), ('ERST', 1), ('ERSU', 1), ('ERSW', 1), ('ERSY', 1), ('ERTU', 1), ('ERTW', 1), ('ERTY', 1), ('ERUW', 1), ('ERUY', 1), ('ERWY', 1), ('ESTU', 1), ('ESTW', 1), ('ESTY', 1), ('ESUW', 1), ('ESUY', 1), ('ESWY', 1), ('ETUW', 1), ('ETUY', 1), ('ETWY', 1), ('EUWY', 1), ('RSTU', 1), ('RSTW', 1), ('RSTY', 1), ('RSUW', 1), ('RSUY', 1), ('RSWY', 1), ('RTUW', 1), ('RTUY', 1), ('RTWY', 1), ('RUWY', 1), ('STUW', 1), ('STUY', 1), ('STWY', 1), ('SUWY', 1), ('TUWY', 1), ('AGGJR', 1), ('EFJQS', 1), ('EFHOR', 1), ('EFHOS', 1), ('EFHRS', 1), ('EFORS', 1), ('EHORS', 1), ('FHORS', 1), ('DFHIS', 1), ('DFHIU', 1), ('DFHSU', 1), ('DFISU', 1), ('DHISU', 1), ('FHISU', 1), ('ABCNV', 1), ('ABCNX', 1), ('ABCVX', 1), ('ABNVX', 1), ('ACNVX', 1), ('BCNVX', 1), ('DERST', 1), ('DERSU', 1), ('DERSW', 1), ('DERSY', 1), ('DERTU', 1), ('DERTW', 1), ('DERTY', 1), ('DERUW', 1), ('DERUY', 1), ('DERWY', 1), ('DESTU', 1), ('DESTW', 1), ('DESTY', 1), ('DESUW', 1), ('DESUY', 1), ('DESWY', 1), ('DETUW', 1), ('DETUY', 1), ('DETWY', 1), ('DEUWY', 1), ('DRSTU', 1), ('DRSTW', 1), ('DRSTY', 1), ('DRSUW', 1), ('DRSUY', 1), ('DRSWY', 1), ('DRTUW', 1), ('DRTUY', 1), ('DRTWY', 1), ('DRUWY', 1), ('DSTUW', 1), ('DSTUY', 1), ('DSTWY', 1), ('DSUWY', 1), ('DTUWY', 1), ('ERSTU', 1), ('ERSTW', 1), ('ERSTY', 1), ('ERSUW', 1), ('ERSUY', 1), ('ERSWY', 1), ('ERTUW', 1), ('ERTUY', 1), ('ERTWY', 1), ('ERUWY', 1), ('ESTUW', 1), ('ESTUY', 1), ('ESTWY', 1), ('ESUWY', 1), ('ETUWY', 1), ('RSTUW', 1), ('RSTUY', 1), ('RSTWY', 1), ('RSUWY', 1), ('RTUWY', 1), ('STUWY', 1), ('EFHORS', 1), ('DFHISU', 1), ('ABCNVX', 1), ('DERSTU', 1), ('DERSTW', 1), ('DERSTY', 1), ('DERSUW', 1), ('DERSUY', 1), ('DERSWY', 1), ('DERTUW', 1), ('DERTUY', 1), ('DERTWY', 1), ('DERUWY', 1), ('DESTUW', 1), ('DESTUY', 1), ('DESTWY', 1), ('DESUWY', 1), ('DETUWY', 1), ('DRSTUW', 1), ('DRSTUY', 1), ('DRSTWY', 1), ('DRSUWY', 1), ('DRTUWY', 1), ('DSTUWY', 1), ('ERSTUW', 1), ('ERSTUY', 1), ('ERSTWY', 1), ('ERSUWY', 1), ('ERTUWY', 1), ('ESTUWY', 1), ('RSTUWY', 1)]\n",
      "[('AGJ', 2), ('AGR', 2), ('GJR', 2), ('EFS', 2), ('ERS', 2), ('FHS', 2), ('DSU', 2), ('AGJR', 2), ('AGG', 1), ('AJR', 1), ('GGJ', 1), ('GGR', 1), ('EFJ', 1), ('EFQ', 1), ('EJQ', 1), ('EJS', 1), ('EQS', 1), ('FJQ', 1), ('FJS', 1), ('FQS', 1), ('JQS', 1), ('EFH', 1), ('EFO', 1), ('EFR', 1), ('EHO', 1), ('EHR', 1), ('EHS', 1), ('EOR', 1), ('EOS', 1), ('FHO', 1), ('FHR', 1), ('FOR', 1), ('FOS', 1), ('FRS', 1), ('HOR', 1), ('HOS', 1), ('HRS', 1), ('ORS', 1), ('DFH', 1), ('DFI', 1), ('DFS', 1), ('DFU', 1), ('DHI', 1), ('DHS', 1), ('DHU', 1), ('DIS', 1), ('DIU', 1), ('FHI', 1), ('FHU', 1), ('FIS', 1), ('FIU', 1), ('FSU', 1), ('HIS', 1), ('HIU', 1), ('HSU', 1), ('ISU', 1), ('ABC', 1), ('ABN', 1), ('ABV', 1), ('ABX', 1), ('ACN', 1), ('ACV', 1), ('ACX', 1), ('ANV', 1), ('ANX', 1), ('AVX', 1), ('BCN', 1), ('BCV', 1), ('BCX', 1), ('BNV', 1), ('BNX', 1), ('BVX', 1), ('CNV', 1), ('CNX', 1), ('CVX', 1), ('NVX', 1), ('DER', 1), ('DES', 1), ('DET', 1), ('DEU', 1), ('DEW', 1), ('DEY', 1), ('DRS', 1), ('DRT', 1), ('DRU', 1), ('DRW', 1), ('DRY', 1), ('DST', 1), ('DSW', 1), ('DSY', 1), ('DTU', 1), ('DTW', 1), ('DTY', 1), ('DUW', 1), ('DUY', 1), ('DWY', 1), ('ERT', 1), ('ERU', 1), ('ERW', 1), ('ERY', 1), ('EST', 1), ('ESU', 1), ('ESW', 1), ('ESY', 1), ('ETU', 1), ('ETW', 1), ('ETY', 1), ('EUW', 1), ('EUY', 1), ('EWY', 1), ('RST', 1), ('RSU', 1), ('RSW', 1), ('RSY', 1), ('RTU', 1), ('RTW', 1), ('RTY', 1), ('RUW', 1), ('RUY', 1), ('RWY', 1), ('STU', 1), ('STW', 1), ('STY', 1), ('SUW', 1), ('SUY', 1), ('SWY', 1), ('TUW', 1), ('TUY', 1), ('TWY', 1), ('UWY', 1), ('AGGJ', 1), ('AGGR', 1), ('GGJR', 1), ('EFJQ', 1), ('EFJS', 1), ('EFQS', 1), ('EJQS', 1), ('FJQS', 1), ('EFHO', 1), ('EFHR', 1), ('EFHS', 1), ('EFOR', 1), ('EFOS', 1), ('EFRS', 1), ('EHOR', 1), ('EHOS', 1), ('EHRS', 1), ('EORS', 1), ('FHOR', 1), ('FHOS', 1), ('FHRS', 1), ('FORS', 1), ('HORS', 1), ('DFHI', 1), ('DFHS', 1), ('DFHU', 1), ('DFIS', 1), ('DFIU', 1), ('DFSU', 1), ('DHIS', 1), ('DHIU', 1), ('DHSU', 1), ('DISU', 1), ('FHIS', 1), ('FHIU', 1), ('FHSU', 1), ('FISU', 1), ('HISU', 1), ('ABCN', 1), ('ABCV', 1), ('ABCX', 1), ('ABNV', 1), ('ABNX', 1), ('ABVX', 1), ('ACNV', 1), ('ACNX', 1), ('ACVX', 1), ('ANVX', 1), ('BCNV', 1), ('BCNX', 1), ('BCVX', 1), ('BNVX', 1), ('CNVX', 1), ('DERS', 1), ('DERT', 1), ('DERU', 1), ('DERW', 1), ('DERY', 1), ('DEST', 1), ('DESU', 1), ('DESW', 1), ('DESY', 1), ('DETU', 1), ('DETW', 1), ('DETY', 1), ('DEUW', 1), ('DEUY', 1), ('DEWY', 1), ('DRST', 1), ('DRSU', 1), ('DRSW', 1), ('DRSY', 1), ('DRTU', 1), ('DRTW', 1), ('DRTY', 1), ('DRUW', 1), ('DRUY', 1), ('DRWY', 1), ('DSTU', 1), ('DSTW', 1), ('DSTY', 1), ('DSUW', 1), ('DSUY', 1), ('DSWY', 1), ('DTUW', 1), ('DTUY', 1), ('DTWY', 1), ('DUWY', 1), ('ERST', 1), ('ERSU', 1), ('ERSW', 1), ('ERSY', 1), ('ERTU', 1), ('ERTW', 1), ('ERTY', 1), ('ERUW', 1), ('ERUY', 1), ('ERWY', 1), ('ESTU', 1), ('ESTW', 1), ('ESTY', 1), ('ESUW', 1), ('ESUY', 1), ('ESWY', 1), ('ETUW', 1), ('ETUY', 1), ('ETWY', 1), ('EUWY', 1), ('RSTU', 1), ('RSTW', 1), ('RSTY', 1), ('RSUW', 1), ('RSUY', 1), ('RSWY', 1), ('RTUW', 1), ('RTUY', 1), ('RTWY', 1), ('RUWY', 1), ('STUW', 1), ('STUY', 1), ('STWY', 1), ('SUWY', 1), ('TUWY', 1), ('AGGJR', 1), ('EFJQS', 1), ('EFHOR', 1), ('EFHOS', 1), ('EFHRS', 1), ('EFORS', 1), ('EHORS', 1), ('FHORS', 1), ('DFHIS', 1), ('DFHIU', 1), ('DFHSU', 1), ('DFISU', 1), ('DHISU', 1), ('FHISU', 1), ('ABCNV', 1), ('ABCNX', 1), ('ABCVX', 1), ('ABNVX', 1), ('ACNVX', 1), ('BCNVX', 1), ('DERST', 1), ('DERSU', 1), ('DERSW', 1), ('DERSY', 1), ('DERTU', 1), ('DERTW', 1), ('DERTY', 1), ('DERUW', 1), ('DERUY', 1), ('DERWY', 1), ('DESTU', 1), ('DESTW', 1), ('DESTY', 1), ('DESUW', 1), ('DESUY', 1), ('DESWY', 1), ('DETUW', 1), ('DETUY', 1), ('DETWY', 1), ('DEUWY', 1), ('DRSTU', 1), ('DRSTW', 1), ('DRSTY', 1), ('DRSUW', 1), ('DRSUY', 1), ('DRSWY', 1), ('DRTUW', 1), ('DRTUY', 1), ('DRTWY', 1), ('DRUWY', 1), ('DSTUW', 1), ('DSTUY', 1), ('DSTWY', 1), ('DSUWY', 1), ('DTUWY', 1), ('ERSTU', 1), ('ERSTW', 1), ('ERSTY', 1), ('ERSUW', 1), ('ERSUY', 1), ('ERSWY', 1), ('ERTUW', 1), ('ERTUY', 1), ('ERTWY', 1), ('ERUWY', 1), ('ESTUW', 1), ('ESTUY', 1), ('ESTWY', 1), ('ESUWY', 1), ('ETUWY', 1), ('RSTUW', 1), ('RSTUY', 1), ('RSTWY', 1), ('RSUWY', 1), ('RTUWY', 1), ('STUWY', 1), ('EFHORS', 1), ('DFHISU', 1), ('ABCNVX', 1), ('DERSTU', 1), ('DERSTW', 1), ('DERSTY', 1), ('DERSUW', 1), ('DERSUY', 1), ('DERSWY', 1), ('DERTUW', 1), ('DERTUY', 1), ('DERTWY', 1), ('DERUWY', 1), ('DESTUW', 1), ('DESTUY', 1), ('DESTWY', 1), ('DESUWY', 1), ('DETUWY', 1), ('DRSTUW', 1), ('DRSTUY', 1), ('DRSTWY', 1), ('DRSUWY', 1), ('DRTUWY', 1), ('DSTUWY', 1), ('ERSTUW', 1), ('ERSTUY', 1), ('ERSTWY', 1), ('ERSUWY', 1), ('ERTUWY', 1), ('ESTUWY', 1), ('RSTUWY', 1)]\n",
      "\n",
      "[('AGJR', 2), ('AGGJ', 1), ('AGGR', 1), ('GGJR', 1), ('EFJQ', 1), ('EFJS', 1), ('EFQS', 1), ('EJQS', 1), ('FJQS', 1), ('EFHO', 1), ('EFHR', 1), ('EFHS', 1), ('EFOR', 1), ('EFOS', 1), ('EFRS', 1), ('EHOR', 1), ('EHOS', 1), ('EHRS', 1), ('EORS', 1), ('FHOR', 1), ('FHOS', 1), ('FHRS', 1), ('FORS', 1), ('HORS', 1), ('DFHI', 1), ('DFHS', 1), ('DFHU', 1), ('DFIS', 1), ('DFIU', 1), ('DFSU', 1), ('DHIS', 1), ('DHIU', 1), ('DHSU', 1), ('DISU', 1), ('FHIS', 1), ('FHIU', 1), ('FHSU', 1), ('FISU', 1), ('HISU', 1), ('ABCN', 1), ('ABCV', 1), ('ABCX', 1), ('ABNV', 1), ('ABNX', 1), ('ABVX', 1), ('ACNV', 1), ('ACNX', 1), ('ACVX', 1), ('ANVX', 1), ('BCNV', 1), ('BCNX', 1), ('BCVX', 1), ('BNVX', 1), ('CNVX', 1), ('DERS', 1), ('DERT', 1), ('DERU', 1), ('DERW', 1), ('DERY', 1), ('DEST', 1), ('DESU', 1), ('DESW', 1), ('DESY', 1), ('DETU', 1), ('DETW', 1), ('DETY', 1), ('DEUW', 1), ('DEUY', 1), ('DEWY', 1), ('DRST', 1), ('DRSU', 1), ('DRSW', 1), ('DRSY', 1), ('DRTU', 1), ('DRTW', 1), ('DRTY', 1), ('DRUW', 1), ('DRUY', 1), ('DRWY', 1), ('DSTU', 1), ('DSTW', 1), ('DSTY', 1), ('DSUW', 1), ('DSUY', 1), ('DSWY', 1), ('DTUW', 1), ('DTUY', 1), ('DTWY', 1), ('DUWY', 1), ('ERST', 1), ('ERSU', 1), ('ERSW', 1), ('ERSY', 1), ('ERTU', 1), ('ERTW', 1), ('ERTY', 1), ('ERUW', 1), ('ERUY', 1), ('ERWY', 1), ('ESTU', 1), ('ESTW', 1), ('ESTY', 1), ('ESUW', 1), ('ESUY', 1), ('ESWY', 1), ('ETUW', 1), ('ETUY', 1), ('ETWY', 1), ('EUWY', 1), ('RSTU', 1), ('RSTW', 1), ('RSTY', 1), ('RSUW', 1), ('RSUY', 1), ('RSWY', 1), ('RTUW', 1), ('RTUY', 1), ('RTWY', 1), ('RUWY', 1), ('STUW', 1), ('STUY', 1), ('STWY', 1), ('SUWY', 1), ('TUWY', 1), ('AGGJR', 1), ('EFJQS', 1), ('EFHOR', 1), ('EFHOS', 1), ('EFHRS', 1), ('EFORS', 1), ('EHORS', 1), ('FHORS', 1), ('DFHIS', 1), ('DFHIU', 1), ('DFHSU', 1), ('DFISU', 1), ('DHISU', 1), ('FHISU', 1), ('ABCNV', 1), ('ABCNX', 1), ('ABCVX', 1), ('ABNVX', 1), ('ACNVX', 1), ('BCNVX', 1), ('DERST', 1), ('DERSU', 1), ('DERSW', 1), ('DERSY', 1), ('DERTU', 1), ('DERTW', 1), ('DERTY', 1), ('DERUW', 1), ('DERUY', 1), ('DERWY', 1), ('DESTU', 1), ('DESTW', 1), ('DESTY', 1), ('DESUW', 1), ('DESUY', 1), ('DESWY', 1), ('DETUW', 1), ('DETUY', 1), ('DETWY', 1), ('DEUWY', 1), ('DRSTU', 1), ('DRSTW', 1), ('DRSTY', 1), ('DRSUW', 1), ('DRSUY', 1), ('DRSWY', 1), ('DRTUW', 1), ('DRTUY', 1), ('DRTWY', 1), ('DRUWY', 1), ('DSTUW', 1), ('DSTUY', 1), ('DSTWY', 1), ('DSUWY', 1), ('DTUWY', 1), ('ERSTU', 1), ('ERSTW', 1), ('ERSTY', 1), ('ERSUW', 1), ('ERSUY', 1), ('ERSWY', 1), ('ERTUW', 1), ('ERTUY', 1), ('ERTWY', 1), ('ERUWY', 1), ('ESTUW', 1), ('ESTUY', 1), ('ESTWY', 1), ('ESUWY', 1), ('ETUWY', 1), ('RSTUW', 1), ('RSTUY', 1), ('RSTWY', 1), ('RSUWY', 1), ('RTUWY', 1), ('STUWY', 1), ('EFHORS', 1), ('DFHISU', 1), ('ABCNVX', 1), ('DERSTU', 1), ('DERSTW', 1), ('DERSTY', 1), ('DERSUW', 1), ('DERSUY', 1), ('DERSWY', 1), ('DERTUW', 1), ('DERTUY', 1), ('DERTWY', 1), ('DERUWY', 1), ('DESTUW', 1), ('DESTUY', 1), ('DESTWY', 1), ('DESUWY', 1), ('DETUWY', 1), ('DRSTUW', 1), ('DRSTUY', 1), ('DRSTWY', 1), ('DRSUWY', 1), ('DRTUWY', 1), ('DSTUWY', 1), ('ERSTUW', 1), ('ERSTUY', 1), ('ERSTWY', 1), ('ERSUWY', 1), ('ERTUWY', 1), ('ESTUWY', 1), ('RSTUWY', 1)]\n",
      "\n",
      "[('AGGJR', 1), ('EFJQS', 1), ('EFHOR', 1), ('EFHOS', 1), ('EFHRS', 1), ('EFORS', 1), ('EHORS', 1), ('FHORS', 1), ('DFHIS', 1), ('DFHIU', 1), ('DFHSU', 1), ('DFISU', 1), ('DHISU', 1), ('FHISU', 1), ('ABCNV', 1), ('ABCNX', 1), ('ABCVX', 1), ('ABNVX', 1), ('ACNVX', 1), ('BCNVX', 1), ('DERST', 1), ('DERSU', 1), ('DERSW', 1), ('DERSY', 1), ('DERTU', 1), ('DERTW', 1), ('DERTY', 1), ('DERUW', 1), ('DERUY', 1), ('DERWY', 1), ('DESTU', 1), ('DESTW', 1), ('DESTY', 1), ('DESUW', 1), ('DESUY', 1), ('DESWY', 1), ('DETUW', 1), ('DETUY', 1), ('DETWY', 1), ('DEUWY', 1), ('DRSTU', 1), ('DRSTW', 1), ('DRSTY', 1), ('DRSUW', 1), ('DRSUY', 1), ('DRSWY', 1), ('DRTUW', 1), ('DRTUY', 1), ('DRTWY', 1), ('DRUWY', 1), ('DSTUW', 1), ('DSTUY', 1), ('DSTWY', 1), ('DSUWY', 1), ('DTUWY', 1), ('ERSTU', 1), ('ERSTW', 1), ('ERSTY', 1), ('ERSUW', 1), ('ERSUY', 1), ('ERSWY', 1), ('ERTUW', 1), ('ERTUY', 1), ('ERTWY', 1), ('ERUWY', 1), ('ESTUW', 1), ('ESTUY', 1), ('ESTWY', 1), ('ESUWY', 1), ('ETUWY', 1), ('RSTUW', 1), ('RSTUY', 1), ('RSTWY', 1), ('RSUWY', 1), ('RTUWY', 1), ('STUWY', 1), ('EFHORS', 1), ('DFHISU', 1), ('ABCNVX', 1), ('DERSTU', 1), ('DERSTW', 1), ('DERSTY', 1), ('DERSUW', 1), ('DERSUY', 1), ('DERSWY', 1), ('DERTUW', 1), ('DERTUY', 1), ('DERTWY', 1), ('DERUWY', 1), ('DESTUW', 1), ('DESTUY', 1), ('DESTWY', 1), ('DESUWY', 1), ('DETUWY', 1), ('DRSTUW', 1), ('DRSTUY', 1), ('DRSTWY', 1), ('DRSUWY', 1), ('DRTUWY', 1), ('DSTUWY', 1), ('ERSTUW', 1), ('ERSTUY', 1), ('ERSTWY', 1), ('ERSUWY', 1), ('ERTUWY', 1), ('ESTUWY', 1), ('RSTUWY', 1)]\n",
      "\n"
     ]
    },
    {
     "data": {
      "text/plain": [
       "['AGJ', 'AGJR', 'AGR', 'DSU', 'EFS', 'ERS', 'ES', 'FHS', 'FS', 'GJR']"
      ]
     },
     "execution_count": 52,
     "metadata": {},
     "output_type": "execute_result"
    }
   ],
   "source": [
    "import itertools, collections\n",
    "\n",
    "def deleteAll(tuple, size):\n",
    "    ans = []\n",
    "    for i in tuple:\n",
    "        if len(i[0]) != size:\n",
    "            ans.append(i)\n",
    "    return ans\n",
    "def solution(orders, course):\n",
    "    com = []\n",
    "    for i in course:\n",
    "        for j in orders:\n",
    "            j = ''.join(sorted(list(j)))\n",
    "            com +=list(map(''.join, itertools.combinations(list(j), i)))\n",
    "    temp = collections.Counter(com)\n",
    "    temp2 = temp.most_common()\n",
    "    print(temp2)\n",
    "    flag = [0] * len(course)\n",
    "    answer = []\n",
    "    while len(temp2) != 0:\n",
    "        if temp2[0][1] == 1:\n",
    "            break\n",
    "        answer.append(''.join(sorted(temp2[0][0])))\n",
    "        if len(temp2) == 1:\n",
    "            break\n",
    "        if (temp2[0][1] == temp2[1][1]) and len(temp2[0][0]) == len(temp2[1][0]):\n",
    "            del temp2[0]\n",
    "            continue\n",
    "        else:\n",
    "            temp2 = deleteAll(temp2, len(temp2[0][0]))\n",
    "            #print(temp2)\n",
    "            #print()\n",
    "    \n",
    "    return sorted(answer)\n",
    "\n",
    "#solution([\"ABCFG\", \"AC\", \"CDE\", \"ACDE\", \"BCFG\", \"ACDEH\"], [2,3,4])\n",
    "#solution([\"ABCDE\", \"AB\", \"CD\", \"ADE\", \"XYZ\", \"XYZ\", \"ACD\"], [2,3,5])\n",
    "#solution([\"ABCDE\", \"ADB\", \"DECBA\", \"ABB\"], [2,5])\n",
    "#solution([\"ABDE\",\"BAED\",\"CD\",\"DF\"], [4])\n",
    "solution([\"AGRJG\", \"SFEQJ\", \"SHFREO\", \"SDFHUI\", \"AXCVBN\", \"SDWERTYU\", \"SL\"], [2,3,4,5, 6])"
   ]
  },
  {
   "cell_type": "code",
   "execution_count": null,
   "metadata": {},
   "outputs": [],
   "source": [
    "import itertools, collections\n",
    "\n",
    "def deleteAll(tuple, size):\n",
    "    ans = []\n",
    "    for i in tuple:\n",
    "        if len(i[0]) != size:\n",
    "            ans.append(i)\n",
    "    return ans\n",
    "def solution(orders, course):\n",
    "    com = []\n",
    "    for i in course:\n",
    "        for j in orders:\n",
    "            j = ''.join(sorted(list(j)))\n",
    "            com +=list(map(''.join, itertools.combinations(list(j), i)))\n",
    "    temp = collections.Counter(com)\n",
    "\n",
    "    temp2 = temp.most_common()\n",
    "    flag = [0] * len(course)\n",
    "    answer = []\n",
    "    while len(temp2)!= 0:\n",
    "        if temp2[0][1] == 1:\n",
    "            break\n",
    "        answer.append(temp2[0][0])\n",
    "        if len(temp2) == 1:\n",
    "            break\n",
    "        if temp2[0][1] == temp2[1][1]:\n",
    "            del temp2[0]\n",
    "            continue\n",
    "        else:\n",
    "            temp2 = deleteAll(temp2, len(temp2[0][0]))\n",
    "\n",
    "    \n",
    "    return sorted(answer)"
   ]
  },
  {
   "cell_type": "code",
   "execution_count": 67,
   "metadata": {},
   "outputs": [
    {
     "ename": "TypeError",
     "evalue": "set expected at most 1 argument, got 2",
     "output_type": "error",
     "traceback": [
      "\u001b[0;31m---------------------------------------------------------------------------\u001b[0m",
      "\u001b[0;31mTypeError\u001b[0m                                 Traceback (most recent call last)",
      "\u001b[0;32m<ipython-input-67-676f9b2e22c1>\u001b[0m in \u001b[0;36m<module>\u001b[0;34m\u001b[0m\n\u001b[0;32m----> 1\u001b[0;31m \u001b[0mset\u001b[0m\u001b[0;34m(\u001b[0m\u001b[0;34m\"java\"\u001b[0m\u001b[0;34m,\u001b[0m \u001b[0;34m\"pizza\"\u001b[0m\u001b[0;34m)\u001b[0m \u001b[0;32min\u001b[0m \u001b[0mset\u001b[0m\u001b[0;34m(\u001b[0m\u001b[0;34m\"java\"\u001b[0m\u001b[0;34m,\u001b[0m\u001b[0;34m\"sdsd\"\u001b[0m\u001b[0;34m,\u001b[0m\u001b[0;34m\"pizza\"\u001b[0m\u001b[0;34m)\u001b[0m\u001b[0;34m\u001b[0m\u001b[0;34m\u001b[0m\u001b[0m\n\u001b[0m",
      "\u001b[0;31mTypeError\u001b[0m: set expected at most 1 argument, got 2"
     ]
    }
   ],
   "source": [
    "set(\"java\", \"pizza\") in set(\"java\",\"sdsd\",\"pizza\")"
   ]
  },
  {
   "cell_type": "code",
   "execution_count": 50,
   "metadata": {},
   "outputs": [
    {
     "name": "stdout",
     "output_type": "stream",
     "text": [
      "[101, 98, 114, 99, 82, 83]\n"
     ]
    },
    {
     "data": {
      "text/plain": [
       "82"
      ]
     },
     "execution_count": 50,
     "metadata": {},
     "output_type": "execute_result"
    }
   ],
   "source": [
    "import heapq\n",
    "\n",
    "def dijkstra(graph, start):\n",
    "    \n",
    "    distances = {node: float('inf') for node in graph}\n",
    "    distances[start] = 0\n",
    "    queue = []\n",
    "    heapq.heappush(queue, [distances[start], start])\n",
    "    \n",
    "    while queue:\n",
    "        current_distance, current_node = heapq.heappop(queue)\n",
    "        \n",
    "        if distances[current_node] < current_distance:\n",
    "            continue\n",
    "            \n",
    "        for adjacent, weight in graph[current_node].items():\n",
    "            distance = current_distance + weight\n",
    "            \n",
    "            if distance < distances[adjacent]:\n",
    "                distances[adjacent] = distance\n",
    "                heapq.heappush(queue, [distance, adjacent])\n",
    "                \n",
    "    return distances\n",
    "\n",
    "def solution(n, s, a, b, fares):\n",
    "    answer = []\n",
    "    dic = {}\n",
    "    for i in range(n):\n",
    "        dic[i+1] = {}\n",
    "\n",
    "    for j in fares:\n",
    "        dic[j[0]][j[1]] = j[2]\n",
    "        dic[j[1]][j[0]] = j[2]\n",
    "    candidate = dijkstra(dic, s)\n",
    "\n",
    "    \n",
    "    answer.append(candidate[a] + candidate[b])\n",
    "    for i in range(1, n+1):\n",
    "        if i == s:\n",
    "            continue\n",
    "        mid = i\n",
    "        temp = dijkstra(dic, mid)\n",
    "        answer.append(candidate[mid] + temp[a] + temp[b])\n",
    "\n",
    "    return min(answer)\n",
    "\n",
    "solution(6,4,6,2,[[4, 1, 10], [3, 5, 24], [5, 6, 2], [3, 1, 41], [5, 1, 24], [4, 6, 50], [2, 4, 66], [2, 3, 22], [1, 6, 25]])"
   ]
  },
  {
   "cell_type": "code",
   "execution_count": 70,
   "metadata": {},
   "outputs": [
    {
     "data": {
      "text/plain": [
       "False"
      ]
     },
     "execution_count": 70,
     "metadata": {},
     "output_type": "execute_result"
    }
   ],
   "source": [
    "set([\"a\",\"c\"]) in set([\"a\",\"b\",\"c\"])"
   ]
  },
  {
   "cell_type": "code",
   "execution_count": null,
   "metadata": {},
   "outputs": [],
   "source": [
    "import re\n",
    "def filter(str):\n",
    "    str = str.replace(\"and \", \"\").replace(\"- \", \"\").split(\" \")\n",
    "    number = int(str[-1])\n",
    "    return set(str[:-1]), number\n",
    "\n",
    "def solution(info, query):\n",
    "    dic = {\"cpp\":{\"backend\":{\"junior\":{\"pizza\":0, \"chicken\":0}, \"senior\":{\"pizza\":0, \"chicken\":0}}, \"frontend\":{\"junior\":{\"pizza\":0, \"chicken\":0}, \"senior\":{\"pizza\":0, \"chicken\":0}}}, \"java\":{\"backend\":{\"junior\":{\"pizza\":0, \"chicken\":0}, \"senior\":{\"pizza\":0, \"chicken\":0}}, \"frontend\":{\"junior\":{\"pizza\":0, \"chicken\":0}, \"senior\":{\"pizza\":0, \"chicken\":0}}}, \"python\":{\"backend\":{\"junior\":{\"pizza\":0, \"chicken\":0}, \"senior\":{\"pizza\":0, \"chicken\":0}}, \"frontend\":{\"junior\":{\"pizza\":0, \"chicken\":0}, \"senior\":{\"pizza\":0, \"chicken\":0}}}}\n",
    "    \n",
    "    answer = []\n",
    "    for j in info:\n",
    "        spl = k.split(\" \")\n",
    "        spl\n",
    "    for i in query:\n",
    "        q, num = filter(i)\n",
    "        ans = 0\n",
    "        for j in info:\n",
    "            splitted = j.split(\" \")\n",
    "            if q - set(splitted[:-1]) == set() and int(splitted[-1]) >= num:\n",
    "                ans += 1\n",
    "        answer.append(ans)\n",
    "\n",
    "    return answer"
   ]
  },
  {
   "cell_type": "code",
   "execution_count": null,
   "metadata": {},
   "outputs": [],
   "source": [
    "#카카오 1\n",
    "import re\n",
    "def solution(new_id):\n",
    "    s1 = new_id.lower()\n",
    "    s2 = ''.join(re.findall('[a-z0-9\\-\\_\\.]+', s1))\n",
    "    temp = re.findall('[.]+', s2)\n",
    "    for i in temp:\n",
    "        s2 = s2.replace(i, '.', 1)\n",
    "    if s2[0] == '.':\n",
    "        s2 = s2[1:]\n",
    "    if s2 != '' and s2[-1] == '.':\n",
    "        s2 = s2[:-1]\n",
    "    if s2 == '':\n",
    "        s2 = \"a\"\n",
    "    if len(s2) >= 16:\n",
    "        s2 = s2[:15]\n",
    "    if s2 != '' and s2[-1] == '.':\n",
    "        s2 = s2[:-1]\n",
    "    if len(s2) <= 2:\n",
    "        str = s2[-1]\n",
    "        s2 += str * (3-len(s2))\n",
    "\n",
    "    return s2\n",
    "\n",
    "#카카오 2\n",
    "import itertools, collections\n",
    "\n",
    "def deleteAll(tuple, size):\n",
    "    ans = []\n",
    "    for i in tuple:\n",
    "        if len(i[0]) != size:\n",
    "            ans.append(i)\n",
    "    return ans\n",
    "def solution(orders, course):\n",
    "    com = []\n",
    "    for i in course:\n",
    "        for j in orders:\n",
    "            j = ''.join(sorted(list(j)))\n",
    "            com +=list(map(''.join, itertools.combinations(list(j), i)))\n",
    "    temp = collections.Counter(com)\n",
    "    temp2 = temp.most_common()\n",
    "\n",
    "    flag = [0] * len(course)\n",
    "    answer = []\n",
    "    while len(temp2) != 0:\n",
    "        if temp2[0][1] == 1:\n",
    "            break\n",
    "        answer.append(''.join(sorted(temp2[0][0])))\n",
    "        if len(temp2) == 1:\n",
    "            break\n",
    "        if (temp2[0][1] == temp2[1][1]) and len(temp2[0][0]) == len(temp2[1][0]):\n",
    "            del temp2[0]\n",
    "            continue\n",
    "        else:\n",
    "            temp2 = deleteAll(temp2, len(temp2[0][0]))\n",
    "    \n",
    "    return sorted(answer)\n",
    "\n",
    "#카카오 3\n",
    "import re\n",
    "def filter(str):\n",
    "    str = str.replace(\"and \", \"\").split(\" \")\n",
    "    number = int(str[-1])\n",
    "    return str[:-1], number\n",
    "\n",
    "def solution(info, query):\n",
    "    dic = {\"cpp\":\n",
    "           {\"backend\":\n",
    "                {\"junior\":\n",
    "                     {\"pizza\":[], \"chicken\":[], \"-\":[]},\n",
    "                 \"senior\":\n",
    "                     {\"pizza\":[], \"chicken\":[], \"-\":[]},\n",
    "                 \"-\":\n",
    "                     {\"pizza\":[], \"chicken\":[], \"-\":[]},\n",
    "                }, \n",
    "            \"frontend\":\n",
    "                {\"junior\":\n",
    "                     {\"pizza\":[], \"chicken\":[], \"-\":[]},\n",
    "                 \"senior\":\n",
    "                     {\"pizza\":[], \"chicken\":[], \"-\":[]},\n",
    "                 \"-\":\n",
    "                     {\"pizza\":[], \"chicken\":[], \"-\":[]},\n",
    "                }, \n",
    "           \"-\":\n",
    "                {\"junior\":\n",
    "                     {\"pizza\":[], \"chicken\":[], \"-\":[]},\n",
    "                 \"senior\":\n",
    "                     {\"pizza\":[], \"chicken\":[], \"-\":[]},\n",
    "                 \"-\":\n",
    "                     {\"pizza\":[], \"chicken\":[], \"-\":[]},\n",
    "                } \n",
    "            },\n",
    "       \"java\":\n",
    "           {\"backend\":\n",
    "                {\"junior\":\n",
    "                     {\"pizza\":[], \"chicken\":[], \"-\":[]},\n",
    "                 \"senior\":\n",
    "                     {\"pizza\":[], \"chicken\":[], \"-\":[]},\n",
    "                 \"-\":\n",
    "                     {\"pizza\":[], \"chicken\":[], \"-\":[]},\n",
    "                }, \n",
    "            \"frontend\":\n",
    "                {\"junior\":\n",
    "                     {\"pizza\":[], \"chicken\":[], \"-\":[]},\n",
    "                 \"senior\":\n",
    "                     {\"pizza\":[], \"chicken\":[], \"-\":[]},\n",
    "                 \"-\":\n",
    "                     {\"pizza\":[], \"chicken\":[], \"-\":[]},\n",
    "                }, \n",
    "           \"-\":\n",
    "                {\"junior\":\n",
    "                     {\"pizza\":[], \"chicken\":[], \"-\":[]},\n",
    "                 \"senior\":\n",
    "                     {\"pizza\":[], \"chicken\":[], \"-\":[]},\n",
    "                 \"-\":\n",
    "                     {\"pizza\":[], \"chicken\":[], \"-\":[]},\n",
    "                } \n",
    "            },\n",
    "       \"python\":\n",
    "           {\"backend\":\n",
    "                 {\"junior\":\n",
    "                     {\"pizza\":[], \"chicken\":[], \"-\":[]},\n",
    "                 \"senior\":\n",
    "                     {\"pizza\":[], \"chicken\":[], \"-\":[]},\n",
    "                 \"-\":\n",
    "                     {\"pizza\":[], \"chicken\":[], \"-\":[]},\n",
    "                }, \n",
    "            \"frontend\":\n",
    "                {\"junior\":\n",
    "                     {\"pizza\":[], \"chicken\":[], \"-\":[]},\n",
    "                 \"senior\":\n",
    "                     {\"pizza\":[], \"chicken\":[], \"-\":[]},\n",
    "                 \"-\":\n",
    "                     {\"pizza\":[], \"chicken\":[], \"-\":[]},\n",
    "                }, \n",
    "           \"-\":\n",
    "                {\"junior\":\n",
    "                     {\"pizza\":[], \"chicken\":[], \"-\":[]},\n",
    "                 \"senior\":\n",
    "                     {\"pizza\":[], \"chicken\":[], \"-\":[]},\n",
    "                 \"-\":\n",
    "                     {\"pizza\":[], \"chicken\":[], \"-\":[]},\n",
    "                }\n",
    "            },\n",
    "       \"-\":\n",
    "           {\"backend\":\n",
    "                {\"junior\":\n",
    "                     {\"pizza\":[], \"chicken\":[], \"-\":[]},\n",
    "                 \"senior\":\n",
    "                     {\"pizza\":[], \"chicken\":[], \"-\":[]},\n",
    "                 \"-\":\n",
    "                     {\"pizza\":[], \"chicken\":[], \"-\":[]},\n",
    "                },  \n",
    "            \"frontend\":\n",
    "                {\"junior\":\n",
    "                     {\"pizza\":[], \"chicken\":[], \"-\":[]},\n",
    "                 \"senior\":\n",
    "                     {\"pizza\":[], \"chicken\":[], \"-\":[]},\n",
    "                 \"-\":\n",
    "                     {\"pizza\":[], \"chicken\":[], \"-\":[]},\n",
    "                }, \n",
    "           \"-\":\n",
    "                {\"junior\":\n",
    "                     {\"pizza\":[], \"chicken\":[], \"-\":[]},\n",
    "                 \"senior\":\n",
    "                     {\"pizza\":[], \"chicken\":[], \"-\":[]},\n",
    "                 \"-\":\n",
    "                     {\"pizza\":[], \"chicken\":[], \"-\":[]},\n",
    "                } \n",
    "            },\n",
    "      }\n",
    "    \n",
    "    answer = []\n",
    "    for k in info:\n",
    "        spl = k.split(\" \")\n",
    "        dic[spl[0]][spl[1]][spl[2]][spl[3]].append(int(spl[-1]))\n",
    "        dic[\"-\"][spl[1]][spl[2]][spl[3]].append(int(spl[-1]))\n",
    "        dic[spl[0]][\"-\"][spl[2]][spl[3]].append(int(spl[-1]))\n",
    "        dic[spl[0]][spl[1]][\"-\"][spl[3]].append(int(spl[-1]))\n",
    "        dic[spl[0]][spl[1]][spl[2]][\"-\"].append(int(spl[-1]))\n",
    "        dic[\"-\"][\"-\"][spl[2]][spl[3]].append(int(spl[-1]))\n",
    "        dic[\"-\"][spl[1]][\"-\"][spl[3]].append(int(spl[-1]))\n",
    "        dic[\"-\"][spl[1]][spl[2]][\"-\"].append(int(spl[-1]))\n",
    "        dic[spl[0]][\"-\"][\"-\"][spl[3]].append(int(spl[-1]))\n",
    "        dic[spl[0]][\"-\"][spl[2]][\"-\"].append(int(spl[-1]))\n",
    "        dic[spl[0]][spl[1]][\"-\"][\"-\"].append(int(spl[-1]))\n",
    "        dic[\"-\"][\"-\"][\"-\"][spl[3]].append(int(spl[-1]))\n",
    "        dic[\"-\"][\"-\"][spl[2]][\"-\"].append(int(spl[-1]))\n",
    "        dic[\"-\"][spl[1]][\"-\"][\"-\"].append(int(spl[-1]))\n",
    "        dic[spl[0]][\"-\"][\"-\"][\"-\"].append(int(spl[-1]))\n",
    "        dic[\"-\"][\"-\"][\"-\"][\"-\"].append(int(spl[-1]))\n",
    "\n",
    "    for i in query:\n",
    "        ans = 0\n",
    "        q, num = filter(i)\n",
    "        \n",
    "        for j in dic[q[0]][q[1]][q[2]][q[3]]:\n",
    "            if j >= num:\n",
    "                ans += 1\n",
    "        answer.append(ans)\n",
    "    return answer\n",
    "\n",
    "\n",
    "#카카오 4\n",
    "import heapq\n",
    "\n",
    "def dijkstra(graph, start):\n",
    "    \n",
    "    distances = {node: float('inf') for node in graph}\n",
    "    distances[start] = 0\n",
    "    queue = []\n",
    "    heapq.heappush(queue, [distances[start], start])\n",
    "    \n",
    "    while queue:\n",
    "        current_distance, current_node = heapq.heappop(queue)\n",
    "        \n",
    "        if distances[current_node] < current_distance:\n",
    "            continue\n",
    "            \n",
    "        for adjacent, weight in graph[current_node].items():\n",
    "            distance = current_distance + weight\n",
    "            \n",
    "            if distance < distances[adjacent]:\n",
    "                distances[adjacent] = distance\n",
    "                heapq.heappush(queue, [distance, adjacent])\n",
    "                \n",
    "    return distances\n",
    "\n",
    "def solution(n, s, a, b, fares):\n",
    "    answer = []\n",
    "    dic = {}\n",
    "    for i in range(n):\n",
    "        dic[i+1] = {}\n",
    "\n",
    "    for j in fares:\n",
    "        dic[j[0]][j[1]] = j[2]\n",
    "        dic[j[1]][j[0]] = j[2]\n",
    "    candidate = dijkstra(dic, s)\n",
    "    \n",
    "    answer.append(candidate[a] + candidate[b])\n",
    "    for i in range(1, n+1):\n",
    "        if i == s:\n",
    "            continue\n",
    "        mid = i\n",
    "        temp = dijkstra(dic, mid)\n",
    "        answer.append(candidate[mid] + temp[a] + temp[b])\n",
    "        \n",
    "    return min(answer)"
   ]
  },
  {
   "cell_type": "code",
   "execution_count": 3,
   "metadata": {},
   "outputs": [
    {
     "data": {
      "text/plain": [
       "['AGJ', 'AGJR', 'AGR', 'DSU', 'EFS', 'ERS', 'ES', 'FHS', 'FS', 'GJR']"
      ]
     },
     "execution_count": 3,
     "metadata": {},
     "output_type": "execute_result"
    }
   ],
   "source": [
    "#카카오 2 ver2\n",
    "import itertools, collections\n",
    "\n",
    "def deleteAll(tuple, size):\n",
    "    ans = []\n",
    "    for i in tuple:\n",
    "        if len(i[0]) != size:\n",
    "            ans.append(i)\n",
    "    return ans\n",
    "def solution(orders, course):\n",
    "    answer = []\n",
    "    com = []\n",
    "    for i in course:\n",
    "        com.append([])\n",
    "        for j in orders:\n",
    "            j = ''.join(sorted(list(j)))\n",
    "            com[-1] +=list(map(''.join, itertools.combinations(list(j), i)))\n",
    "    \n",
    "    temp=[]\n",
    "    for j in com:\n",
    "        temp.append(collections.Counter(j).most_common())\n",
    "    \n",
    "    for k in temp:\n",
    "        while k[0][1] != 1:\n",
    "            answer.append(''.join(sorted(k[0][0])))\n",
    "            if len(k) == 1:\n",
    "                break\n",
    "            if k[0][1] == k[1][1]:\n",
    "                del k[0]\n",
    "                continue\n",
    "            break\n",
    "    return sorted(answer)\n",
    "\n",
    "#solution([\"ABCFG\", \"AC\", \"CDE\", \"ACDE\", \"BCFG\", \"ACDEH\"], [2,3,4])\n",
    "#solution([\"ABCDE\", \"AB\", \"CD\", \"ADE\", \"XYZ\", \"XYZ\", \"ACD\"], [2,3,5])\n",
    "#solution([\"ABCDE\", \"ADB\", \"DECBA\", \"ABB\"], [2,5])\n",
    "#solution([\"ABDE\",\"BAED\",\"CD\",\"DF\"], [4])\n",
    "solution([\"AGRJG\", \"SFEQJ\", \"SHFREO\", \"SDFHUI\", \"AXCVBN\", \"SDWERTYU\", \"SL\"], [2,3,4,5, 6])"
   ]
  },
  {
   "cell_type": "code",
   "execution_count": 46,
   "metadata": {},
   "outputs": [
    {
     "data": {
      "text/plain": [
       "'FOO'"
      ]
     },
     "execution_count": 46,
     "metadata": {},
     "output_type": "execute_result"
    }
   ],
   "source": [
    "from datetime import datetime\n",
    "import time\n",
    "\n",
    "def solution(m, musicinfos):\n",
    "    answer = ''\n",
    "    time = 0\n",
    "    m = m.replace(\"C#\", \"1\").replace(\"D#\", \"2\").replace(\"F#\", \"3\").replace(\"G#\", \"4\").replace(\"A#\", \"5\")\n",
    "\n",
    "    for j in musicinfos:\n",
    "        temp2 = j.split(\",\")\n",
    "        temp2[3] = temp2[3].replace(\"C#\", \"1\").replace(\"D#\", \"2\").replace(\"F#\", \"3\").replace(\"G#\", \"4\").replace(\"A#\", \"5\")\n",
    "        d1 = datetime.strptime(temp2[0], \"%H:%M\")\n",
    "        d2 = datetime.strptime(temp2[1], \"%H:%M\")\n",
    "\n",
    "        length = (d2-d1).seconds // 60\n",
    "        string = (temp2[3] * (length // len(temp2[3]) + 1))[:length]\n",
    "\n",
    "        if m in string:\n",
    "            if answer == '' or time < length:\n",
    "                answer = temp2[2]\n",
    "                time = length\n",
    "\n",
    "    return answer if answer != '' else '(None)'\n",
    "\n",
    "solution(\"CC#BCC#BCC#BCC#B\", [\"03:00,03:30,FOO,CC#B\", \"04:00,04:08,BAR,CC#BCC#BCC#B\"])"
   ]
  },
  {
   "cell_type": "code",
   "execution_count": 48,
   "metadata": {},
   "outputs": [
    {
     "name": "stdout",
     "output_type": "stream",
     "text": [
      "[('AC', 4), ('CD', 3), ('CE', 3), ('DE', 3), ('CDE', 3), ('BC', 2), ('BF', 2), ('BG', 2), ('CF', 2), ('CG', 2), ('FG', 2), ('AD', 2), ('AE', 2), ('BCF', 2), ('BCG', 2), ('BFG', 2), ('CFG', 2), ('ACD', 2), ('ACE', 2), ('ADE', 2), ('BCFG', 2), ('ACDE', 2), ('AB', 1), ('AF', 1), ('AG', 1), ('AH', 1), ('CH', 1), ('DH', 1), ('EH', 1), ('ABC', 1), ('ABF', 1), ('ABG', 1), ('ACF', 1), ('ACG', 1), ('AFG', 1), ('ACH', 1), ('ADH', 1), ('AEH', 1), ('CDH', 1), ('CEH', 1), ('DEH', 1), ('ABCF', 1), ('ABCG', 1), ('ABFG', 1), ('ACFG', 1), ('ACDH', 1), ('ACEH', 1), ('ADEH', 1), ('CDEH', 1)]\n"
     ]
    },
    {
     "data": {
      "text/plain": [
       "['AC', 'ACDE', 'BCFG', 'CDE']"
      ]
     },
     "execution_count": 48,
     "metadata": {},
     "output_type": "execute_result"
    }
   ],
   "source": [
    "import itertools, collections\n",
    "\n",
    "def deleteAll(tuple, size):\n",
    "    ans = []\n",
    "    for i in tuple:\n",
    "        if len(i[0]) != size:\n",
    "            ans.append(i)\n",
    "    return ans\n",
    "def solution(orders, course):\n",
    "    com = []\n",
    "    for i in course:\n",
    "        for j in orders:\n",
    "            j = ''.join(sorted(list(j)))\n",
    "            com += list(map(''.join, itertools.combinations(list(j), i)))\n",
    "    temp = collections.Counter(com)\n",
    "    temp2 = temp.most_common()\n",
    "    print(temp2)\n",
    "\n",
    "    flag = [0] * len(course)\n",
    "    answer = []\n",
    "    while len(temp2) != 0:\n",
    "        if temp2[0][1] == 1:\n",
    "            break\n",
    "        answer.append(''.join(sorted(temp2[0][0])))\n",
    "        if len(temp2) == 1:\n",
    "            break\n",
    "        if (temp2[0][1] == temp2[1][1]) and len(temp2[0][0]) == len(temp2[1][0]):\n",
    "            del temp2[0]\n",
    "            continue\n",
    "        else:\n",
    "            temp2 = deleteAll(temp2, len(temp2[0][0]))\n",
    "    \n",
    "    return sorted(answer)\n",
    "\n",
    "solution([\"ABCFG\", \"AC\", \"CDE\", \"ACDE\", \"BCFG\", \"ACDEH\"], [2,3,4])"
   ]
  },
  {
   "cell_type": "code",
   "execution_count": 14,
   "metadata": {},
   "outputs": [
    {
     "data": {
      "text/plain": [
       "0"
      ]
     },
     "execution_count": 14,
     "metadata": {},
     "output_type": "execute_result"
    }
   ],
   "source": [
    "def solution(n, works):\n",
    "    if sum(works) <= n:\n",
    "        return 0\n",
    "    works.sort(reverse = True)\n",
    "    i, j = 0, 1  \n",
    "    while n > 0 and j < len(works):\n",
    "        while works[i] == works[j]:\n",
    "            i += 1\n",
    "            j += 1\n",
    "            if j == len(works):\n",
    "                i -= 1\n",
    "                j -= 1\n",
    "                break\n",
    "        temp = works[i] - works[j]\n",
    "        if n >= temp:\n",
    "            if temp != 0:\n",
    "                n -= temp\n",
    "                works[i] = works[j]\n",
    "            else:\n",
    "                works[j] -= 1\n",
    "                n -= 1\n",
    "        else:\n",
    "            if temp != 0:\n",
    "                works[i] -= n\n",
    "                n = 0\n",
    "        i, j = 0, 1\n",
    "        print(works)\n",
    "    answer = 0\n",
    "    for i in works:\n",
    "        answer += i*i\n",
    "\n",
    "    return answer\n",
    "\n",
    "solution(3, [1,1])"
   ]
  },
  {
   "cell_type": "code",
   "execution_count": 10,
   "metadata": {},
   "outputs": [
    {
     "data": {
      "text/plain": [
       "[1, 4, 5, 10, 11, 12, 13]"
      ]
     },
     "execution_count": 10,
     "metadata": {},
     "output_type": "execute_result"
    }
   ],
   "source": [
    "from collections import deque\n",
    "\n",
    "def bfs(graph, root):\n",
    "    visited = []\n",
    "    queue = []\n",
    "    queue.append(root)\n",
    "\n",
    "    while queue:\n",
    "        n = queue.pop(0)\n",
    "        if n not in visited:\n",
    "            visited.append(n)\n",
    "            if n in graph.keys():\n",
    "                queue.extend(graph[n])\n",
    "    return visited\n",
    "  \n",
    "bfs({0: [1, 2, 3], 1: [4, 5], 2: [6], 3: [7, 8, 9], 4: [10, 11], 5: [12, 13], 6: [14, 15, 16], 8: [17, 18]}, 1)"
   ]
  },
  {
   "cell_type": "code",
   "execution_count": 16,
   "metadata": {},
   "outputs": [
    {
     "name": "stdout",
     "output_type": "stream",
     "text": [
      "[5, 4, 3]\n"
     ]
    }
   ],
   "source": [
    "print(max([[1,2,3,7,12111],[5,4,3]]))"
   ]
  },
  {
   "cell_type": "code",
   "execution_count": 17,
   "metadata": {},
   "outputs": [
    {
     "name": "stdout",
     "output_type": "stream",
     "text": [
      "{0: [], 1: [4, 5, 23]}\n"
     ]
    }
   ],
   "source": [
    "g = {0:[1], 1:[4,5,23]}\n",
    "del g[0][0]\n",
    "print(g)"
   ]
  },
  {
   "cell_type": "code",
   "execution_count": 37,
   "metadata": {},
   "outputs": [
    {
     "name": "stdout",
     "output_type": "stream",
     "text": [
      "0\n",
      "1\n",
      "[2]\n",
      "2\n",
      "5\n",
      "[6, 7]\n",
      "[0, 2, 6, 7]\n"
     ]
    },
    {
     "data": {
      "text/plain": [
       "0"
      ]
     },
     "execution_count": 37,
     "metadata": {},
     "output_type": "execute_result"
    }
   ],
   "source": [
    "def bfs(graph, root):\n",
    "    visited = []\n",
    "    queue = []\n",
    "    queue.append(root)\n",
    "\n",
    "    while queue:\n",
    "        n = queue.pop(0)\n",
    "        if n not in visited:\n",
    "            visited.append(n)\n",
    "            if n in graph.keys():\n",
    "                queue.extend(graph[n])\n",
    "    return visited\n",
    "\n",
    "def findMax(arr):\n",
    "    maxx = 0\n",
    "    a, b = 0, 0\n",
    "    for i in range(len(arr)):\n",
    "        for j in range(len(arr[i])):\n",
    "            if arr[i][j] > maxx:\n",
    "                maxx = arr[i][j]\n",
    "                a, b= i, j\n",
    "    return [a, b]\n",
    "\n",
    "def solution(n, edges):\n",
    "    g = {}\n",
    "    for i in edges:\n",
    "        if i[0] in g.keys():\n",
    "            g[i[0]].append(i[1])\n",
    "        else:\n",
    "            g[i[0]] = [i[1]]\n",
    "    root = [0]\n",
    "    removedNode = -1\n",
    "    \n",
    "    while(root != []):\n",
    "        can = []\n",
    "        for i in root:\n",
    "            can.append([])\n",
    "            if i not in g.keys():\n",
    "                continue\n",
    "            print(i)\n",
    "            for j in g[i]:\n",
    "                if j not in g.keys():\n",
    "                    continue\n",
    "                can[-1].append(len(bfs(g, j)))\n",
    "        rem = findMax(can)\n",
    "        if len(root) == 0:\n",
    "            break\n",
    "        if root[rem[0]] not in g.keys():\n",
    "            break\n",
    "        if len(g[root[rem[0]]]) != 0:\n",
    "            removedNode = g[root[rem[0]]][rem[1]]\n",
    "            del g[root[rem[0]]][rem[1]]\n",
    "            \n",
    "        print(removedNode) \n",
    "        temp = []\n",
    "        for l in root:\n",
    "            if l in g.keys():\n",
    "                temp.extend(g[l])\n",
    "        root = temp\n",
    "        print(root)\n",
    "    print(bfs(g, 0))\n",
    "    return 0\n",
    "\n",
    "solution(19 ,[[0, 1], [0, 2], [1, 3], [1, 4], [2, 5], [2, 6], [2, 7], [3, 8], [3, 9], [3, 10], [4, 11], [4, 12], [4, 13]])"
   ]
  },
  {
   "cell_type": "code",
   "execution_count": 15,
   "metadata": {},
   "outputs": [
    {
     "name": "stdout",
     "output_type": "stream",
     "text": [
      "0 4 [5, 12, 15, 15, 15, 16, 17, 17, 19, 21, 23, 25, 26, 29, 32, 38, 39, 39, 45, 46, 47, 47, 49, 50, 51, 56]\n",
      "0 5 [12, 15, 15, 15, 16, 17, 17, 19, 21, 23, 25, 26, 29, 32, 38, 39, 39, 45, 46, 47, 47, 49, 50, 51, 56]\n",
      "0 6 [15, 15, 15, 16, 17, 17, 19, 21, 23, 25, 26, 29, 32, 38, 39, 39, 45, 46, 47, 47, 49, 50, 51, 56]\n",
      "3 7 [15, 15, 16, 17, 17, 19, 21, 23, 25, 26, 29, 32, 38, 39, 39, 45, 46, 47, 47, 49, 50, 51, 56]\n",
      "9 8 [15, 16, 17, 17, 19, 21, 23, 25, 26, 29, 32, 38, 39, 39, 45, 46, 47, 47, 49, 50, 51, 56]\n",
      "12 9 [16, 17, 17, 19, 21, 23, 25, 26, 29, 32, 38, 39, 39, 45, 46, 47, 47, 49, 50, 51, 56]\n",
      "12 10 [17, 17, 19, 21, 23, 25, 26, 29, 32, 38, 39, 39, 45, 46, 47, 47, 49, 50, 51, 56]\n",
      "16 11 [17, 19, 21, 23, 25, 26, 29, 32, 38, 39, 39, 45, 46, 47, 47, 49, 50, 51, 56]\n",
      "23 15 [25, 26, 29, 32, 38, 39, 39, 45, 46, 47, 47, 49, 50, 51, 56]\n",
      "25 16 [26, 29, 32, 38, 39, 39, 45, 46, 47, 47, 49, 50, 51, 56]\n",
      "25 17 [29, 32, 38, 39, 39, 45, 46, 47, 47, 49, 50, 51, 56]\n",
      "27 18 [32, 38, 39, 39, 45, 46, 47, 47, 49, 50, 51, 56]\n",
      "28 19 [38, 39, 39, 45, 46, 47, 47, 49, 50, 51, 56]\n",
      "31 20 [39, 39, 45, 46, 47, 47, 49, 50, 51, 56]\n",
      "32 21 [39, 45, 46, 47, 47, 49, 50, 51, 56]\n",
      "36 22 [45, 46, 47, 47, 49, 50, 51, 56]\n",
      "36 23 [46, 47, 47, 49, 50, 51, 56]\n",
      "37 24 [47, 47, 49, 50, 51, 56]\n",
      "38 25 [47, 49, 50, 51, 56]\n",
      "39 26 [49, 50, 51, 56]\n",
      "41 27 [50, 51, 56]\n",
      "46 28 [51, 56]\n",
      "47 29 [56]\n",
      "52 30 []\n"
     ]
    },
    {
     "ename": "IndexError",
     "evalue": "list index out of range",
     "output_type": "error",
     "traceback": [
      "\u001b[0;31m---------------------------------------------------------------------------\u001b[0m",
      "\u001b[0;31mIndexError\u001b[0m                                Traceback (most recent call last)",
      "\u001b[0;32m<ipython-input-15-e96c445a2fed>\u001b[0m in \u001b[0;36m<module>\u001b[0;34m\u001b[0m\n\u001b[1;32m     29\u001b[0m \u001b[0;34m\u001b[0m\u001b[0m\n\u001b[1;32m     30\u001b[0m \u001b[0;34m\u001b[0m\u001b[0m\n\u001b[0;32m---> 31\u001b[0;31m \u001b[0maa\u001b[0m\u001b[0;34m(\u001b[0m\u001b[0;34m[\u001b[0m\u001b[0;36m0\u001b[0m\u001b[0;34m,\u001b[0m\u001b[0;36m0\u001b[0m\u001b[0;34m,\u001b[0m\u001b[0;36m0\u001b[0m\u001b[0;34m,\u001b[0m\u001b[0;36m0\u001b[0m\u001b[0;34m,\u001b[0m\u001b[0;36m5\u001b[0m\u001b[0;34m,\u001b[0m\u001b[0;36m12\u001b[0m\u001b[0;34m,\u001b[0m\u001b[0;36m15\u001b[0m\u001b[0;34m,\u001b[0m\u001b[0;36m15\u001b[0m\u001b[0;34m,\u001b[0m\u001b[0;36m15\u001b[0m\u001b[0;34m,\u001b[0m\u001b[0;36m16\u001b[0m\u001b[0;34m,\u001b[0m\u001b[0;36m17\u001b[0m\u001b[0;34m,\u001b[0m\u001b[0;36m17\u001b[0m\u001b[0;34m,\u001b[0m\u001b[0;36m19\u001b[0m\u001b[0;34m,\u001b[0m\u001b[0;36m21\u001b[0m\u001b[0;34m,\u001b[0m\u001b[0;36m23\u001b[0m\u001b[0;34m,\u001b[0m\u001b[0;36m25\u001b[0m\u001b[0;34m,\u001b[0m\u001b[0;36m26\u001b[0m\u001b[0;34m,\u001b[0m\u001b[0;36m29\u001b[0m\u001b[0;34m,\u001b[0m\u001b[0;36m32\u001b[0m\u001b[0;34m,\u001b[0m\u001b[0;36m38\u001b[0m\u001b[0;34m,\u001b[0m\u001b[0;36m39\u001b[0m\u001b[0;34m,\u001b[0m\u001b[0;36m39\u001b[0m\u001b[0;34m,\u001b[0m\u001b[0;36m45\u001b[0m\u001b[0;34m,\u001b[0m\u001b[0;36m46\u001b[0m\u001b[0;34m,\u001b[0m\u001b[0;36m47\u001b[0m\u001b[0;34m,\u001b[0m\u001b[0;36m47\u001b[0m\u001b[0;34m,\u001b[0m\u001b[0;36m49\u001b[0m\u001b[0;34m,\u001b[0m\u001b[0;36m50\u001b[0m\u001b[0;34m,\u001b[0m\u001b[0;36m51\u001b[0m\u001b[0;34m,\u001b[0m\u001b[0;36m56\u001b[0m\u001b[0;34m]\u001b[0m\u001b[0;34m,\u001b[0m\u001b[0;34m[\u001b[0m\u001b[0;36m0\u001b[0m\u001b[0;34m,\u001b[0m\u001b[0;36m0\u001b[0m\u001b[0;34m,\u001b[0m\u001b[0;36m0\u001b[0m\u001b[0;34m,\u001b[0m\u001b[0;36m3\u001b[0m\u001b[0;34m,\u001b[0m\u001b[0;36m9\u001b[0m\u001b[0;34m,\u001b[0m\u001b[0;36m12\u001b[0m\u001b[0;34m,\u001b[0m\u001b[0;36m12\u001b[0m\u001b[0;34m,\u001b[0m\u001b[0;36m16\u001b[0m\u001b[0;34m,\u001b[0m\u001b[0;36m23\u001b[0m\u001b[0;34m,\u001b[0m\u001b[0;36m25\u001b[0m\u001b[0;34m,\u001b[0m\u001b[0;36m25\u001b[0m\u001b[0;34m,\u001b[0m\u001b[0;36m27\u001b[0m\u001b[0;34m,\u001b[0m\u001b[0;36m28\u001b[0m\u001b[0;34m,\u001b[0m\u001b[0;36m31\u001b[0m\u001b[0;34m,\u001b[0m\u001b[0;36m32\u001b[0m\u001b[0;34m,\u001b[0m\u001b[0;36m36\u001b[0m\u001b[0;34m,\u001b[0m\u001b[0;36m36\u001b[0m\u001b[0;34m,\u001b[0m\u001b[0;36m37\u001b[0m\u001b[0;34m,\u001b[0m\u001b[0;36m38\u001b[0m\u001b[0;34m,\u001b[0m\u001b[0;36m39\u001b[0m\u001b[0;34m,\u001b[0m\u001b[0;36m41\u001b[0m\u001b[0;34m,\u001b[0m\u001b[0;36m46\u001b[0m\u001b[0;34m,\u001b[0m\u001b[0;36m47\u001b[0m\u001b[0;34m,\u001b[0m\u001b[0;36m52\u001b[0m\u001b[0;34m,\u001b[0m\u001b[0;36m52\u001b[0m\u001b[0;34m,\u001b[0m\u001b[0;36m55\u001b[0m\u001b[0;34m,\u001b[0m\u001b[0;36m56\u001b[0m\u001b[0;34m,\u001b[0m\u001b[0;36m57\u001b[0m\u001b[0;34m,\u001b[0m\u001b[0;36m58\u001b[0m\u001b[0;34m]\u001b[0m\u001b[0;34m)\u001b[0m\u001b[0;34m\u001b[0m\u001b[0;34m\u001b[0m\u001b[0m\n\u001b[0m",
      "\u001b[0;32m<ipython-input-15-e96c445a2fed>\u001b[0m in \u001b[0;36maa\u001b[0;34m(t, tt)\u001b[0m\n\u001b[1;32m     13\u001b[0m \u001b[0;34m\u001b[0m\u001b[0m\n\u001b[1;32m     14\u001b[0m     \u001b[0;32mfor\u001b[0m \u001b[0mi\u001b[0m \u001b[0;32min\u001b[0m \u001b[0mtt\u001b[0m\u001b[0;34m:\u001b[0m\u001b[0;34m\u001b[0m\u001b[0;34m\u001b[0m\u001b[0m\n\u001b[0;32m---> 15\u001b[0;31m         \u001b[0mres\u001b[0m \u001b[0;34m=\u001b[0m \u001b[0mfindIndex\u001b[0m\u001b[0;34m(\u001b[0m\u001b[0mt\u001b[0m\u001b[0;34m,\u001b[0m \u001b[0mi\u001b[0m\u001b[0;34m)\u001b[0m\u001b[0;34m\u001b[0m\u001b[0;34m\u001b[0m\u001b[0m\n\u001b[0m\u001b[1;32m     16\u001b[0m         \u001b[0;32mif\u001b[0m \u001b[0mres\u001b[0m \u001b[0;34m==\u001b[0m \u001b[0;32mNone\u001b[0m\u001b[0;34m:\u001b[0m\u001b[0;34m\u001b[0m\u001b[0;34m\u001b[0m\u001b[0m\n\u001b[1;32m     17\u001b[0m             \u001b[0;32mcontinue\u001b[0m\u001b[0;34m\u001b[0m\u001b[0;34m\u001b[0m\u001b[0m\n",
      "\u001b[0;32m<ipython-input-15-e96c445a2fed>\u001b[0m in \u001b[0;36mfindIndex\u001b[0;34m(arr, target)\u001b[0m\n\u001b[1;32m      1\u001b[0m \u001b[0;32mdef\u001b[0m \u001b[0mfindIndex\u001b[0m\u001b[0;34m(\u001b[0m\u001b[0marr\u001b[0m\u001b[0;34m,\u001b[0m \u001b[0mtarget\u001b[0m\u001b[0;34m)\u001b[0m\u001b[0;34m:\u001b[0m\u001b[0;34m\u001b[0m\u001b[0;34m\u001b[0m\u001b[0m\n\u001b[0;32m----> 2\u001b[0;31m     \u001b[0;32mif\u001b[0m \u001b[0marr\u001b[0m\u001b[0;34m[\u001b[0m\u001b[0;36m0\u001b[0m\u001b[0;34m]\u001b[0m \u001b[0;34m>\u001b[0m \u001b[0mtarget\u001b[0m\u001b[0;34m:\u001b[0m\u001b[0;34m\u001b[0m\u001b[0;34m\u001b[0m\u001b[0m\n\u001b[0m\u001b[1;32m      3\u001b[0m         \u001b[0;32mreturn\u001b[0m \u001b[0;36m0\u001b[0m\u001b[0;34m\u001b[0m\u001b[0;34m\u001b[0m\u001b[0m\n\u001b[1;32m      4\u001b[0m     \u001b[0;32mfor\u001b[0m \u001b[0mi\u001b[0m \u001b[0;32min\u001b[0m \u001b[0mrange\u001b[0m\u001b[0;34m(\u001b[0m\u001b[0mlen\u001b[0m\u001b[0;34m(\u001b[0m\u001b[0marr\u001b[0m\u001b[0;34m)\u001b[0m \u001b[0;34m-\u001b[0m \u001b[0;36m1\u001b[0m\u001b[0;34m)\u001b[0m\u001b[0;34m:\u001b[0m\u001b[0;34m\u001b[0m\u001b[0;34m\u001b[0m\u001b[0m\n\u001b[1;32m      5\u001b[0m         \u001b[0;32mif\u001b[0m \u001b[0marr\u001b[0m\u001b[0;34m[\u001b[0m\u001b[0mi\u001b[0m\u001b[0;34m]\u001b[0m \u001b[0;34m<=\u001b[0m \u001b[0mtarget\u001b[0m \u001b[0;32mand\u001b[0m \u001b[0marr\u001b[0m\u001b[0;34m[\u001b[0m\u001b[0mi\u001b[0m\u001b[0;34m+\u001b[0m\u001b[0;36m1\u001b[0m\u001b[0;34m]\u001b[0m \u001b[0;34m>\u001b[0m \u001b[0mtarget\u001b[0m\u001b[0;34m:\u001b[0m\u001b[0;34m\u001b[0m\u001b[0;34m\u001b[0m\u001b[0m\n",
      "\u001b[0;31mIndexError\u001b[0m: list index out of range"
     ]
    }
   ],
   "source": [
    "def findIndex(arr, target):\n",
    "    if arr[0] > target:\n",
    "        return 0\n",
    "    for i in range(len(arr) - 1):\n",
    "        if arr[i] <= target and arr[i+1] > target:\n",
    "            return i\n",
    "    return len(arr)-1\n",
    "\n",
    "def aa(t, tt):\n",
    "    t.sort()\n",
    "    tt.sort()\n",
    "    answer = 0\n",
    "    \n",
    "    for i in tt:\n",
    "        res = findIndex(t, i)\n",
    "        if res == None:\n",
    "            continue\n",
    "        elif res >= 4:\n",
    "            right = t[res+1:]\n",
    "            t = t[:res-4] + right\n",
    "            answer += 5\n",
    "            \n",
    "        else:\n",
    "            t = t[res+1:]\n",
    "            answer += res + 1\n",
    "            \n",
    "        print(i, answer, t)\n",
    "    return answer\n",
    "\n",
    "\n",
    "aa([0,0,0,0,5,12,15,15,15,16,17,17,19,21,23,25,26,29,32,38,39,39,45,46,47,47,49,50,51,56],[0,0,0,3,9,12,12,16,23,25,25,27,28,31,32,36,36,37,38,39,41,46,47,52,52,55,56,57,58])"
   ]
  },
  {
   "cell_type": "code",
   "execution_count": null,
   "metadata": {},
   "outputs": [],
   "source": []
  }
 ],
 "metadata": {
  "kernelspec": {
   "display_name": "Python 3",
   "language": "python",
   "name": "python3"
  },
  "language_info": {
   "codemirror_mode": {
    "name": "ipython",
    "version": 3
   },
   "file_extension": ".py",
   "mimetype": "text/x-python",
   "name": "python",
   "nbconvert_exporter": "python",
   "pygments_lexer": "ipython3",
   "version": "3.8.3"
  }
 },
 "nbformat": 4,
 "nbformat_minor": 4
}
